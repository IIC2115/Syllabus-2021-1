{
 "cells": [
  {
   "cell_type": "markdown",
   "metadata": {
    "id": "ZFJ2Pw384HNP"
   },
   "source": [
    "# T3a"
   ]
  },
  {
   "cell_type": "code",
   "execution_count": 1,
   "metadata": {
    "id": "1UO0TR284HNu"
   },
   "outputs": [],
   "source": [
    "import json, sqlite3"
   ]
  },
  {
   "cell_type": "markdown",
   "metadata": {
    "id": "ozw7QJT74HN0"
   },
   "source": [
    "## Misión 1"
   ]
  },
  {
   "cell_type": "code",
   "execution_count": 2,
   "metadata": {
    "id": "kGF4cBwx4HN2"
   },
   "outputs": [],
   "source": [
    "with open('movies.json', encoding = 'utf8') as movies_file:\n",
    "    movies = json.load(movies_file)"
   ]
  },
  {
   "cell_type": "code",
   "execution_count": 3,
   "metadata": {
    "colab": {
     "base_uri": "https://localhost:8080/",
     "height": 229
    },
    "executionInfo": {
     "elapsed": 1721,
     "status": "error",
     "timestamp": 1620069954829,
     "user": {
      "displayName": "VALENTINA ALVAREZ GALVEZ",
      "photoUrl": "https://lh3.googleusercontent.com/a-/AOh14Gg2amaZXWPrJ9ffYw70o3FgCk90xymkKIyRAjhVqw=s64",
      "userId": "10639173405617917244"
     },
     "user_tz": 240
    },
    "id": "DhdwS8A94HN4",
    "outputId": "01a57544-1e76-4da4-93e2-09430b8ddf40"
   },
   "outputs": [],
   "source": [
    "connection = sqlite3.connect('movies.db') \n",
    "cursor = connection.cursor()                    \n",
    "  \n",
    "cursor.execute(\"CREATE TABLE Movies(mid INT, title TEXT, year INT, PRIMARY KEY(mid))\")\n",
    "cursor.execute(\"CREATE TABLE Actors(aid INT, name TEXT, PRIMARY KEY (aid))\")\n",
    "cursor.execute(\"CREATE TABLE Genres(gid INT, genre TEXT, PRIMARY KEY (gid))\")\n",
    "cursor.execute(\"CREATE TABLE ActorsMovies(actor_id INT, movie_id INT, FOREIGN KEY (actor_id) REFERENCES Actors, FOREIGN KEY (movie_id) REFERENCES Movies)\")\n",
    "cursor.execute(\"CREATE TABLE GenresMovies(genre_id INT, movie_id INT, FOREIGN KEY (genre_id) REFERENCES Genres, FOREIGN KEY (movie_id) REFERENCES Movies)\")\n",
    "\n",
    "connection.commit()\n",
    "connection.close()"
   ]
  },
  {
   "cell_type": "markdown",
   "metadata": {
    "id": "_77DSXSF4HN6"
   },
   "source": [
    "## Misión 2"
   ]
  },
  {
   "cell_type": "code",
   "execution_count": 4,
   "metadata": {
    "id": "_lgFrl7y4HN7"
   },
   "outputs": [],
   "source": [
    "connection = sqlite3.connect('movies.db') \n",
    "cursor = connection.cursor()\n",
    "\n",
    "mid = 0\n",
    "aid = 0\n",
    "gid = 0\n",
    "genres = {}\n",
    "actors = {}\n",
    "\n",
    "for movie in movies:\n",
    "    \n",
    "    title = movie[\"title\"]\n",
    "    year = movie[\"year\"]\n",
    "    \n",
    "    cursor.execute(\"INSERT INTO Movies VALUES (?,?,?)\", (mid, title, year))\n",
    "    \n",
    "    for genre in movie[\"genres\"]:\n",
    "        if genre not in genres:\n",
    "            genres[genre] = gid\n",
    "            cursor.execute(\"INSERT INTO Genres VALUES (?,?)\", (gid, genre))\n",
    "            gid += 1\n",
    "        cursor.execute(\"INSERT INTO GenresMovies VALUES (?,?)\", (gid, mid))\n",
    "    \n",
    "    for actor in movie[\"cast\"]:\n",
    "        if actor not in actors:\n",
    "            actors[actor] = aid\n",
    "            cursor.execute(\"INSERT INTO Actors VALUES (?,?)\", (aid, actor))\n",
    "            aid += 1\n",
    "        cursor.execute(\"INSERT INTO ActorsMovies VALUES (?,?)\", (actors[actor], mid))\n",
    "\n",
    "    mid += 1\n",
    "\n",
    "connection.commit()\n",
    "connection.close()"
   ]
  }
 ],
 "metadata": {
  "colab": {
   "name": "T3a_pauta.ipynb",
   "provenance": []
  },
  "kernelspec": {
   "display_name": "Python 3",
   "language": "python",
   "name": "python3"
  },
  "language_info": {
   "codemirror_mode": {
    "name": "ipython",
    "version": 3
   },
   "file_extension": ".py",
   "mimetype": "text/x-python",
   "name": "python",
   "nbconvert_exporter": "python",
   "pygments_lexer": "ipython3",
   "version": "3.8.3"
  }
 },
 "nbformat": 4,
 "nbformat_minor": 1
}
