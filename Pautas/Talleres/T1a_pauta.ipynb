{
 "cells": [
  {
   "cell_type": "markdown",
   "metadata": {},
   "source": [
    "# Pauta Taller 1a"
   ]
  },
  {
   "cell_type": "code",
   "execution_count": 9,
   "metadata": {},
   "outputs": [],
   "source": [
    "class Ciudad:\n",
    "    \n",
    "    def __init__(self, nombre, color):\n",
    "        self.nombre = nombre\n",
    "        self.color = color\n",
    "        self.pintados = 0\n",
    "        \n",
    "    def pintar(self, vehiculo):\n",
    "        vehiculo.color = self.color\n",
    "        self.pintados += 1\n",
    "        vehiculo.visitadas += 1\n",
    "        \n",
    "    def __str__(self):\n",
    "        return f\"{self.nombre}: color {self.color}, {self.pintados} vehículos pintados.\""
   ]
  },
  {
   "cell_type": "code",
   "execution_count": 10,
   "metadata": {},
   "outputs": [],
   "source": [
    "class Persona:\n",
    "    \n",
    "    def __init__(self, nombre, edad, vehiculo):\n",
    "        self.nombre = nombre\n",
    "        self.edad = edad\n",
    "        self.vehiculo = vehiculo\n",
    "        self.horas_conducidas = 0\n",
    "        self.ciudades = []\n",
    "    \n",
    "    def viajar(self, ciudad, distancia):\n",
    "        self.horas_conducidas += self.vehiculo.recorrer(distancia)\n",
    "        if self.vehiculo.estado == \"Funcionando\":\n",
    "            ciudad.pintar(self.vehiculo)\n",
    "            self.ciudades.append(ciudad.nombre)\n",
    "            print(f\"La persona {self.nombre} llegó a {ciudad.nombre} en {self.horas_conducidas} horas y ahora su vehículo es de color {self.vehiculo.color}.\")\n",
    "        else:\n",
    "            print(f\"La persona {self.nombre} no logró llegar a {ciudad.nombre}, se quedó en panne a las {self.horas_conducidas} horas de viajes.\")\n",
    "    \n",
    "    def __str__(self):\n",
    "        return f\"{self.nombre}: edad {self.edad} años, su vehículo es {self.vehiculo.__class__.__name__} de color {self.vehiculo.color}, ha conducido {self.horas_conducidas} horas.\"\\\n",
    "    f\"\\nCiudades Visitadas: {', '.join(self.ciudades)}\""
   ]
  },
  {
   "cell_type": "code",
   "execution_count": 11,
   "metadata": {},
   "outputs": [],
   "source": [
    "class Vehiculo:\n",
    "    \n",
    "    def __init__(self):\n",
    "        self.color = \"Blanco\"\n",
    "        self.velocidad_promedio = None\n",
    "        self.km_recorridos = 0\n",
    "        self.km_maximos = None\n",
    "        self.visitadas = 0\n",
    "        self.estado = \"Funcionando\"\n",
    "        \n",
    "    def eficiencia(self):\n",
    "        if self.km_recorridos != 0:\n",
    "            print(f\"Eficiencia: {self.visitadas/self.km_recorridos} [ciudades/km]\")\n",
    "        else:\n",
    "            print(\"El vehículo no ha recorrido kilómetros.\")\n",
    "    \n",
    "    def recorrer(self, distancia):\n",
    "        if self.km_recorridos + distancia > self.km_maximos:\n",
    "            self.estado = \"En Panne\"\n",
    "            distancia_recorrida = self.km_maximos - self.km_recorridos\n",
    "            self.km_recorridos = self.km_maximos\n",
    "            return (distancia_recorrida)/self.velocidad_promedio\n",
    "        else:\n",
    "            self.km_recorridos += distancia\n",
    "            return distancia / self.velocidad_promedio"
   ]
  },
  {
   "cell_type": "code",
   "execution_count": 12,
   "metadata": {},
   "outputs": [],
   "source": [
    "class Auto(Vehiculo):\n",
    "    \n",
    "    def __init__(self):\n",
    "        super().__init__()\n",
    "        self.velocidad_promedio = 80\n",
    "        self.km_maximos = 1500\n",
    "    \n",
    "    def __str__(self):\n",
    "        return f\"Auto: color actual {self.color}, ha recorrido {self.km_recorridos} kilómetros, estado es {self.estado}.\""
   ]
  },
  {
   "cell_type": "code",
   "execution_count": 13,
   "metadata": {},
   "outputs": [],
   "source": [
    "class Bicicleta(Vehiculo):\n",
    "    \n",
    "    def __init__(self):\n",
    "        super().__init__()\n",
    "        self.velocidad_promedio = 30\n",
    "        self.km_maximos = 1000\n",
    "        \n",
    "    def __str__(self):\n",
    "        return f\"Bicicleta: color actual {self.color}, ha recorrido {self.km_recorridos} kilómetros, estado es {self.estado}.\""
   ]
  },
  {
   "cell_type": "markdown",
   "metadata": {},
   "source": [
    "## Ejecución"
   ]
  },
  {
   "cell_type": "code",
   "execution_count": 14,
   "metadata": {},
   "outputs": [],
   "source": [
    "roma = Ciudad(\"Roma\", \"Verde\")\n",
    "santiago = Ciudad(\"Santiago\", \"Rojo\")\n",
    "lima = Ciudad(\"Lima\", \"Azul\")\n",
    "valparaiso = Ciudad(\"Valparaíso\", \"Celeste\")\n",
    "vehiculo = Auto()\n",
    "tiempo_de_viaje = vehiculo.recorrer(900)\n",
    "roma.pintar(vehiculo)\n",
    "persona_1 = Persona(\"Raúl\", 45, vehiculo)\n",
    "persona_2 = Persona(\"Laura\", 45, Auto())\n",
    "persona_3 = Persona(\"Juan\", 17, Auto())"
   ]
  },
  {
   "cell_type": "code",
   "execution_count": 15,
   "metadata": {},
   "outputs": [
    {
     "name": "stdout",
     "output_type": "stream",
     "text": [
      "La persona Raúl llegó a Roma en 1.2375 horas y ahora su vehículo es de color Verde.\n",
      "La persona Laura llegó a Santiago en 0.025 horas y ahora su vehículo es de color Rojo.\n",
      "La persona Laura llegó a Valparaíso en 6.275 horas y ahora su vehículo es de color Celeste.\n",
      "La persona Laura no logró llegar a Santiago, se quedó en panne a las 18.75 horas de viajes.\n",
      "La persona Juan no logró llegar a Lima, se quedó en panne a las 18.75 horas de viajes.\n",
      "La persona Raúl no logró llegar a Santiago, se quedó en panne a las 7.5 horas de viajes.\n",
      "La persona Laura no logró llegar a Roma, se quedó en panne a las 18.75 horas de viajes.\n"
     ]
    }
   ],
   "source": [
    "persona_1.viajar(roma, 99)\n",
    "persona_2.viajar(santiago, 2)\n",
    "persona_2.viajar(valparaiso, 500)\n",
    "persona_2.viajar(santiago, 1000)\n",
    "persona_3.viajar(lima, 6000)\n",
    "persona_1.viajar(santiago, 1278)\n",
    "persona_2.viajar(roma, 200)"
   ]
  },
  {
   "cell_type": "code",
   "execution_count": 16,
   "metadata": {},
   "outputs": [
    {
     "name": "stdout",
     "output_type": "stream",
     "text": [
      "Laura: edad 45 años, su vehículo es Auto de color Celeste, ha conducido 18.75 horas.\n",
      "Ciudades Visitadas: Santiago, Valparaíso\n",
      "Auto: color actual Verde, ha recorrido 1500 kilómetros, estado es En Panne.\n",
      "Auto: color actual Blanco, ha recorrido 1500 kilómetros, estado es En Panne.\n",
      "Roma: color Verde, 2 vehículos pintados.\n"
     ]
    }
   ],
   "source": [
    "print(persona_2)\n",
    "print(vehiculo)\n",
    "print(persona_3.vehiculo)\n",
    "print(roma)"
   ]
  },
  {
   "cell_type": "code",
   "execution_count": null,
   "metadata": {},
   "outputs": [],
   "source": []
  }
 ],
 "metadata": {
  "kernelspec": {
   "display_name": "Python 3",
   "language": "python",
   "name": "python3"
  },
  "language_info": {
   "codemirror_mode": {
    "name": "ipython",
    "version": 3
   },
   "file_extension": ".py",
   "mimetype": "text/x-python",
   "name": "python",
   "nbconvert_exporter": "python",
   "pygments_lexer": "ipython3",
   "version": "3.6.8"
  }
 },
 "nbformat": 4,
 "nbformat_minor": 2
}
