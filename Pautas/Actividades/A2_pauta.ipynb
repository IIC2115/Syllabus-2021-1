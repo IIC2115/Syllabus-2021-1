{
 "cells": [
  {
   "cell_type": "markdown",
   "metadata": {
    "id": "cKpVjlXnrKgb"
   },
   "source": [
    "# Pregunta 1"
   ]
  },
  {
   "cell_type": "code",
   "execution_count": null,
   "metadata": {
    "id": "kI9Hl0YYrKgg",
    "outputId": "ae9e867d-c099-42b0-b85d-c635ecf1d703"
   },
   "outputs": [
    {
     "name": "stdout",
     "output_type": "stream",
     "text": [
      "aíreinegni_al_arap_atneimarreh_omoc_nóicamargorp\n"
     ]
    }
   ],
   "source": [
    "def invertir_string(string_original):\n",
    "    stack = []\n",
    "    stack[:0] = string_original\n",
    "    string_inverso = []\n",
    "    while stack:\n",
    "        string_inverso.append(stack.pop())\n",
    "    return \"\".join(string_inverso)\n",
    "\n",
    "if __name__ == '__main__':\n",
    "    string_original = \"programación_como_herramienta_para_la_ingeniería\"\n",
    "    string_inverso = invertir_string(string_original)\n",
    "    print(string_inverso)"
   ]
  },
  {
   "cell_type": "markdown",
   "metadata": {
    "id": "v5pT5zsmrKgh"
   },
   "source": [
    "# Problema 2"
   ]
  },
  {
   "cell_type": "code",
   "execution_count": null,
   "metadata": {
    "id": "EzVnnZ5urKgh",
    "outputId": "e644c5c4-13f7-48c2-a718-e5adfc86a6dd"
   },
   "outputs": [
    {
     "name": "stdout",
     "output_type": "stream",
     "text": [
      "60\n"
     ]
    }
   ],
   "source": [
    "def maximo_producto_absoluto(A):\n",
    "    max_par = [abs(elem) for elem in A[:2]]\n",
    "    max_par.sort()\n",
    "    for elem in A[2:]:\n",
    "        if abs(elem) > max_par[0]:\n",
    "            max_par.pop(0)\n",
    "            max_par.append(abs(elem))\n",
    "            max_par.sort()\n",
    "    return max_par[0]*max_par[1]\n",
    " \n",
    "if __name__ == '__main__':\n",
    "    A = [-10, -3, 4, 6, -2]\n",
    "    print(maximo_producto_absoluto(A))"
   ]
  },
  {
   "cell_type": "markdown",
   "metadata": {
    "id": "CcVH2qEYrKgi"
   },
   "source": [
    "# Pregunta 3"
   ]
  },
  {
   "cell_type": "code",
   "execution_count": null,
   "metadata": {
    "id": "YpF7THbDrKgi",
    "outputId": "e5abc9a9-82fa-4c68-9d8d-51589beafa0b"
   },
   "outputs": [
    {
     "name": "stdout",
     "output_type": "stream",
     "text": [
      "4\n"
     ]
    }
   ],
   "source": [
    "def calcular_raiz(numero): # Basado en búsqueda binaria\n",
    "    if numero < 2: # Caso base\n",
    "        return numero\n",
    "\n",
    "    result = 0 \n",
    "    start = 1\n",
    "    end = numero // 2 # La raiz cuadrada no puede ser mayor a numero/2 para numero >1\n",
    " \n",
    "    while start <= end:\n",
    "        mid = (start + end) // 2  # Encontrar el elemento del medio\n",
    "        sqr = mid*mid\n",
    "         \n",
    "        if sqr == numero: # Si es cuadrado perfecto se retorna\n",
    "            return mid\n",
    "        \n",
    "        elif sqr < numero: # Si mid×mid es menor a numero\n",
    "            start = mid + 1 # Descartar el elemento de la izquierda\n",
    "            result = mid # Actualizar el resultado\n",
    "        \n",
    "        else: # Si mid×mid es mayor a numero\n",
    "            end = mid - 1 # Se descarta el elemento de la derecha\n",
    "\n",
    "    return result\n",
    " \n",
    "if __name__ == '__main__':\n",
    "    numero = 17\n",
    "    raiz = calcular_raiz(numero)\n",
    "    print(raiz)"
   ]
  },
  {
   "cell_type": "code",
   "execution_count": null,
   "metadata": {
    "id": "1GuQSE_mrKgi",
    "outputId": "bb5b8780-18f8-455d-e440-ad689beeb57a"
   },
   "outputs": [
    {
     "name": "stdout",
     "output_type": "stream",
     "text": [
      "4\n"
     ]
    }
   ],
   "source": [
    "def calcular_raiz_ineficiente(numero): # Esto es O(raiz(n)) > O(log(n))\n",
    "    i = 1\n",
    "    while i*i <= numero:\n",
    "        i = i + 1 \n",
    "    return i - 1\n",
    "\n",
    "if __name__ == '__main__':\n",
    "    numero = 17\n",
    "    raiz = calcular_raiz_ineficiente(numero)\n",
    "    print(raiz)"
   ]
  },
  {
   "cell_type": "markdown",
   "metadata": {
    "id": "Ti7oDf7IrKgj"
   },
   "source": [
    "# Pregunta 4"
   ]
  },
  {
   "cell_type": "code",
   "execution_count": null,
   "metadata": {
    "colab": {
     "base_uri": "https://localhost:8080/"
    },
    "executionInfo": {
     "elapsed": 953,
     "status": "ok",
     "timestamp": 1619483411182,
     "user": {
      "displayName": "José Manuel Wielandt Galleguillos",
      "photoUrl": "",
      "userId": "01009209069630933312"
     },
     "user_tz": 240
    },
    "id": "kBMzgkd0talK",
    "outputId": "58456f76-7dc2-4066-be97-29dbc65c2385"
   },
   "outputs": [
    {
     "name": "stdout",
     "output_type": "stream",
     "text": [
      "True\n"
     ]
    }
   ],
   "source": [
    "# clase que representa el grafo\n",
    "class Graph:\n",
    "    def __init__(self, edges, N):\n",
    "        self.adjList = [[] for _ in range(N)]  # lista de adyacencia\n",
    "        for (src, dest) in edges:\n",
    "            self.adjList[src].append(dest)\n",
    "\n",
    "\n",
    "def DFS(graph, v, visited):  # O(N + A)\n",
    "    visited[v] = True\n",
    "    for u in graph.adjList[v]:\n",
    "        if not visited[u]:\n",
    "            DFS(graph, u, visited)\n",
    "\n",
    "\n",
    "def check(graph, N):\n",
    "    visited = [False] * N\n",
    "    v = 0\n",
    "    DFS(graph, v, visited)  # O(N + A)\n",
    "    for b in visited:  # O(N)\n",
    "        if not b:\n",
    "            return False\n",
    "    visited = [False] * N  # O(N)\n",
    "    edges = [(j, i) for i in range(N) for j in graph.adjList[i]]\n",
    "    gr = Graph(edges, N)\n",
    "    DFS(gr, v, visited)\n",
    "    for b in visited:\n",
    "        if not b:\n",
    "            return False\n",
    "    return True\n",
    "\n",
    "\n",
    "def caminos_desde_todos(matriz_adyacencia):\n",
    "    N = len(matriz_adyacencia)\n",
    "    edges = []\n",
    "    for i, v in enumerate(matriz_adyacencia):\n",
    "        for k, w in enumerate(v):\n",
    "            if w == 1:\n",
    "                edges.append((i, k))\n",
    "    graph = Graph(edges, N)\n",
    "    return check(graph, N)\n",
    "\n",
    "\n",
    "if __name__ == \"__main__\":\n",
    "    grafo = [[0,0,0,0,1],[1,0,1,0,0],[0,1,0,0,1],[0,1,1,0,0],[0,0,0,1,0]]\n",
    "    se_puede = caminos_desde_todos(grafo)\n",
    "    print(se_puede)\n"
   ]
  }
 ],
 "metadata": {
  "colab": {
   "name": "Pauta_A2.ipynb",
   "provenance": []
  },
  "kernelspec": {
   "display_name": "Python 3",
   "language": "python",
   "name": "python3"
  },
  "language_info": {
   "codemirror_mode": {
    "name": "ipython",
    "version": 3
   },
   "file_extension": ".py",
   "mimetype": "text/x-python",
   "name": "python",
   "nbconvert_exporter": "python",
   "pygments_lexer": "ipython3",
   "version": "3.8.3"
  }
 },
 "nbformat": 4,
 "nbformat_minor": 1
}
