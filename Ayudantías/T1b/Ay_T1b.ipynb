{
 "cells": [
  {
   "cell_type": "markdown",
   "metadata": {},
   "source": [
    "# IIC2115 - Programación Como Herramienta para la Ingeniería\n",
    "## Taller 1b\n",
    "### Ayudante: Matías Gaete Silva - mzgaete@uc.cl\n",
    "#### Ejercicio 1\n",
    "Definimos la función ``calcular_ocurrencias`` que recibe una lista de strings y retorna una lista de tuplas donde el primer elemento de estas es el string y el segundo las ocurrencias de este en la lista inicial."
   ]
  },
  {
   "cell_type": "code",
   "execution_count": 18,
   "metadata": {},
   "outputs": [],
   "source": [
    "def calcular_ocurrencias(palabras):\n",
    "    conteo_palabras = {}\n",
    "    for palabra in palabras:\n",
    "        if palabra not in conteo_palabras:\n",
    "            conteo_palabras[palabra] = 1\n",
    "        else:\n",
    "            conteo_palabras[palabra] += 1\n",
    "    lista_palabras = []\n",
    "    for palabra, ocurrencias in conteo_palabras.items():\n",
    "        lista_palabras.append((palabra, ocurrencias))\n",
    "    return lista_palabras"
   ]
  },
  {
   "cell_type": "markdown",
   "metadata": {},
   "source": [
    "Probamos el código con el ejemplo del enunciado:"
   ]
  },
  {
   "cell_type": "code",
   "execution_count": 19,
   "metadata": {},
   "outputs": [
    {
     "name": "stdout",
     "output_type": "stream",
     "text": [
      "[('avión', 2), ('perro', 1), ('gato', 2), ('edificio', 1)]\n"
     ]
    }
   ],
   "source": [
    "if __name__ == '__main__':\n",
    "    palabras = ['avión', 'perro', 'gato', 'avión', 'edificio', 'gato']\n",
    "    ocurrencias = calcular_ocurrencias(palabras)\n",
    "    print(ocurrencias)"
   ]
  },
  {
   "cell_type": "markdown",
   "metadata": {},
   "source": [
    "Podemos ahorrarnos unas cuantas líneas de código usando listas por comprensión y notando que no es necesario el ``else``:"
   ]
  },
  {
   "cell_type": "code",
   "execution_count": 20,
   "metadata": {},
   "outputs": [],
   "source": [
    "def calcular_ocurrencias2(palabras):\n",
    "    conteo_palabras = {}\n",
    "    for palabra in palabras:\n",
    "        if palabra not in conteo_palabras:\n",
    "            conteo_palabras[palabra] = 0\n",
    "        conteo_palabras[palabra] += 1\n",
    "    lista_palabras = [(palabra, ocurrencias) for palabra, ocurrencias in conteo_palabras.items()]\n",
    "    return lista_palabras"
   ]
  },
  {
   "cell_type": "markdown",
   "metadata": {},
   "source": [
    "Siempre que creamos una llave nueva queremos que su valor comience en 0, ¿qué podríamos usar para hacer esto de manera más automática?... Defaultdicts! Por otro lado, ``dictionary.items()`` retorna un *view object* que muestra una lista de tuplas del tipo *(key, value)*. Esto último es justamente lo que queremos retornar, por lo que podríamos transformar el *view object* en lista usando ``list()``."
   ]
  },
  {
   "cell_type": "code",
   "execution_count": 21,
   "metadata": {},
   "outputs": [],
   "source": [
    "from collections import defaultdict\n",
    "\n",
    "\n",
    "def calcular_ocurrencias3(palabras):\n",
    "    conteo_palabras = defaultdict(int)\n",
    "    for palabra in palabras:\n",
    "        conteo_palabras[palabra] += 1\n",
    "    return list(conteo_palabras.items())"
   ]
  },
  {
   "cell_type": "markdown",
   "metadata": {},
   "source": [
    "### Ejercicio 2\n",
    "Definimos la función ``suma_cuadrados`` que recibe una lista con números naturales y retorna una lista de tuplas de trios pitagóricos presentes en la lista inicial. Esta solución está basada en el uso de listas y diccionarios."
   ]
  },
  {
   "cell_type": "code",
   "execution_count": 22,
   "metadata": {},
   "outputs": [],
   "source": [
    "def suma_cuadrados(numeros):\n",
    "    lista_cuadrados = []\n",
    "    dict_cuadrados = {}\n",
    "    for numero in numeros:\n",
    "        cuadrado_numero = numero ** 2\n",
    "        lista_cuadrados.append(cuadrado_numero)\n",
    "        dict_cuadrados[cuadrado_numero] = numero\n",
    "    n_numeros = len(lista_cuadrados)\n",
    "    trios = []\n",
    "    for i in range(n_numeros - 1):\n",
    "        x = lista_cuadrados[i]\n",
    "        for j in range(i + 1, n_numeros):\n",
    "            suma = x + lista_cuadrados[j]\n",
    "            if suma in dict_cuadrados:\n",
    "                trios.append((numeros[i], numeros[j], dict_cuadrados[suma]))\n",
    "    return trios"
   ]
  },
  {
   "cell_type": "markdown",
   "metadata": {},
   "source": [
    "Probamos el código con el ejemplo del enunciado:"
   ]
  },
  {
   "cell_type": "code",
   "execution_count": 23,
   "metadata": {},
   "outputs": [
    {
     "name": "stdout",
     "output_type": "stream",
     "text": [
      "[(3, 4, 5), (12, 5, 13)]\n"
     ]
    }
   ],
   "source": [
    "if __name__ == '__main__':\n",
    "    numeros = [2,3,4,6,7,12,13,15,5,17,14,22]\n",
    "    trios = suma_cuadrados(numeros)\n",
    "    print(trios)"
   ]
  },
  {
   "cell_type": "markdown",
   "metadata": {},
   "source": [
    "Solución solo basada en listas y más eficiente que fuerza bruta (el ordenamiento de la lista es la parte clave de esta solución):"
   ]
  },
  {
   "cell_type": "code",
   "execution_count": 24,
   "metadata": {},
   "outputs": [],
   "source": [
    "def suma_cuadrados2(numeros):\n",
    "    numeros.sort()\n",
    "    cuadrado_numeros = [numero**2 for numero in numeros]\n",
    "    trios = []\n",
    "    n_numeros = len(numeros)\n",
    "    for k in range(2, n_numeros):\n",
    "        i = 0\n",
    "        j = k - 1\n",
    "        while i < j:\n",
    "            suma = cuadrado_numeros[i] + cuadrado_numeros[j]\n",
    "            c_cuadrado = cuadrado_numeros[k]\n",
    "            if suma == c_cuadrado:\n",
    "                trios.append((numeros[i], numeros[j], numeros[k]))\n",
    "                i += 1\n",
    "            elif suma < c_cuadrado:\n",
    "                i += 1\n",
    "            else:\n",
    "                j -= 1\n",
    "    return trios"
   ]
  },
  {
   "cell_type": "markdown",
   "metadata": {},
   "source": [
    "Soluciones con contenido que aún no ven (básicamente *sets*):"
   ]
  },
  {
   "cell_type": "code",
   "execution_count": 25,
   "metadata": {},
   "outputs": [],
   "source": [
    "import math\n",
    "import itertools\n",
    "\n",
    "def suma_cuadrados3(L):\n",
    "    L = list(set(L))         \n",
    "    S2 = {l**2 for l in L}\n",
    "    L2 = list(S2)    \n",
    "    R = []       \n",
    "    for i in range(len(L)):\n",
    "        x = L2[i]\n",
    "        for j in range(i,len(L)):\n",
    "            index = x + L2[j]            \n",
    "            if (index in S2):                                \n",
    "                R.append((L[i], L[j], int(math.sqrt(index))))\n",
    "    return R\n",
    "\n",
    "def suma_cuadrados4(L):\n",
    "    L = list(set(L)) \n",
    "    S2 = {x**2 for x in L}    \n",
    "    return [(int(math.sqrt(x)),int(math.sqrt(y)), int(math.sqrt(x+y))) for x,y in itertools.combinations(S2,2) if (x+y in S2)]"
   ]
  },
  {
   "cell_type": "markdown",
   "metadata": {},
   "source": [
    "Anexo: Solución con fuerza bruta"
   ]
  },
  {
   "cell_type": "code",
   "execution_count": 26,
   "metadata": {},
   "outputs": [],
   "source": [
    "def suma_cuadrados_fb(numeros):\n",
    "    trios = []\n",
    "    n_numeros = len(numeros)\n",
    "    for i in range(n_numeros - 2):\n",
    "        x = numeros[i] ** 2\n",
    "        for j in range(i + 1, n_numeros - 1):\n",
    "            y = numeros[j] ** 2\n",
    "            for k in range(j + 1, n_numeros):\n",
    "                z = numeros[k] ** 2\n",
    "                if (x == y + z or y == x + z or z == x + y):\n",
    "                    trios.append((numeros[i],numeros[j],numeros[k]))\n",
    "    return trios"
   ]
  },
  {
   "cell_type": "code",
   "execution_count": null,
   "metadata": {},
   "outputs": [],
   "source": []
  }
 ],
 "metadata": {
  "kernelspec": {
   "display_name": "Python 3",
   "language": "python",
   "name": "python3"
  },
  "language_info": {
   "codemirror_mode": {
    "name": "ipython",
    "version": 3
   },
   "file_extension": ".py",
   "mimetype": "text/x-python",
   "name": "python",
   "nbconvert_exporter": "python",
   "pygments_lexer": "ipython3",
   "version": "3.6.8"
  }
 },
 "nbformat": 4,
 "nbformat_minor": 2
}
