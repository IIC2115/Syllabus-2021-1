{
 "cells": [
  {
   "cell_type": "markdown",
   "metadata": {},
   "source": [
    "# IIC2115 - Programación Como Herramienta para la Ingeniería\n",
    "## Taller 3b\n",
    "### Ayudante: Matías Gaete Silva - mzgaete@uc.cl\n",
    "Importamos librerías necesarias:"
   ]
  },
  {
   "cell_type": "code",
   "execution_count": 14,
   "metadata": {},
   "outputs": [],
   "source": [
    "import sqlite3"
   ]
  },
  {
   "cell_type": "markdown",
   "metadata": {},
   "source": [
    "#### Consulta: Para todos los niveles, con excepción de JR, encuentre el nivel y el promedio de edad de los estudiantes del nivel.\n",
    "De la tabla Estudiantes agrupamos por nivel (excepto para el nivel JR) y seleccionamos el nivel junto con el promedio de edad de los estudiantes del nivel."
   ]
  },
  {
   "cell_type": "code",
   "execution_count": 15,
   "metadata": {},
   "outputs": [
    {
     "name": "stdout",
     "output_type": "stream",
     "text": [
      "[('FR', 17.666666666666668), ('SO', 18.4), ('SR', 20.714285714285715)]\n"
     ]
    }
   ],
   "source": [
    "connection = sqlite3.connect('data.db')\n",
    "cursor = connection.cursor()\n",
    "cursor.execute(\"SELECT E.nivel, AVG(E.edad) \\\n",
    "                FROM Estudiantes E \\\n",
    "                WHERE E.nivel != 'JR' \\\n",
    "                GROUP BY E.nivel\")\n",
    "print(cursor.fetchall())\n",
    "connection.close()"
   ]
  },
  {
   "cell_type": "markdown",
   "metadata": {},
   "source": [
    "#### Consulta: Encuentre los nombres de todos los alumnos que no están inscritos en ningún curso.\n",
    "Los alumnos inscritos se encuentran en la tabla Inscritos, por lo que en la consulta anidada obtenemos los alumnos que están inscritos en algún curso. Con esta información, de la tabla Estudiantes seleccionamos el nombre de los estudiantes que no se encuentran en el resultado anterior, lo que nos otorgará los nombres de los alumnos que no están inscritos en ningún curso."
   ]
  },
  {
   "cell_type": "code",
   "execution_count": 16,
   "metadata": {},
   "outputs": [
    {
     "name": "stdout",
     "output_type": "stream",
     "text": [
      "[('Maria White',), ('Charles Harris',), ('Angela Martinez',), ('Thomas Robinson',), ('Margaret Clark',), ('Dorthy Lewis',), ('Daniel Lee',), ('Nancy Allen',), ('Mark Young',), ('Donald King',), ('George Wright',), ('Steven Green',), ('Edward Baker',)]\n"
     ]
    }
   ],
   "source": [
    "connection = sqlite3.connect('data.db')\n",
    "cursor = connection.cursor()\n",
    "cursor.execute(\"SELECT E.nombre \\\n",
    "                FROM Estudiantes E \\\n",
    "                WHERE E.num NOT IN (SELECT I.num_est \\\n",
    "                                    FROM Inscritos I)\")\n",
    "print(cursor.fetchall())\n",
    "connection.close()"
   ]
  },
  {
   "cell_type": "markdown",
   "metadata": {},
   "source": [
    "#### Consulta: Encuentre los nombres de los profesores para los cuales la suma de estudiantes de todos los cursos que dictan es menor que 5 (considere solo aquellos cursos con al menos 1 estudiante inscrito).\n",
    "\n",
    "Notemos que Inscritos tiene información de los cursos y los estudiantes inscritos (la necesitamos para obtener la cantidad de alumnos por curso); Cursos tiene información sobre los cursos y profesores que lo dictan (la necesitamos para saber qué profesores dictan qué cursos); y Profesores tiene información sobre los nombres de estos (que es lo que queremos retornar, ya que Cursos usa el id de los profesores). Por lo tanto, debemos hacer un JOIN entre estas tablas para tener toda la información que necesitamos. Con lo anterior, basta agrupar por profesor (usando GROUP BY) e imponer la condición de que la suma de estudiantes de todos los cursos que dictan es menor que 5 (con COUNT se obtiene la cantidad de alumnos y con HAVING se impone la condición)."
   ]
  },
  {
   "cell_type": "code",
   "execution_count": 17,
   "metadata": {},
   "outputs": [
    {
     "name": "stdout",
     "output_type": "stream",
     "text": [
      "[('John Williams',), ('Elizabeth Taylor',), ('Mary Johnson',), ('William Moore',), ('Patricia Jones',), ('Richard Jackson',), ('Jennifer Thomas',)]\n"
     ]
    }
   ],
   "source": [
    "connection = sqlite3.connect('data.db')\n",
    "cursor = connection.cursor()\n",
    "cursor.execute(\"SELECT P.nombre \\\n",
    "                FROM Profesores P, Cursos C, Inscritos I \\\n",
    "                WHERE P.id = C.id_profesor AND I.nombre_curso = C.nombre \\\n",
    "                GROUP BY P.id \\\n",
    "                HAVING COUNT(I.num_est)<5\")\n",
    "print(cursor.fetchall())\n",
    "connection.close()"
   ]
  },
  {
   "cell_type": "markdown",
   "metadata": {},
   "source": [
    "Otra forma:"
   ]
  },
  {
   "cell_type": "code",
   "execution_count": 18,
   "metadata": {},
   "outputs": [
    {
     "name": "stdout",
     "output_type": "stream",
     "text": [
      "[('John Williams',), ('Elizabeth Taylor',), ('Mary Johnson',), ('William Moore',), ('Patricia Jones',), ('Richard Jackson',), ('Jennifer Thomas',)]\n"
     ]
    }
   ],
   "source": [
    "connection = sqlite3.connect('data.db')\n",
    "cursor = connection.cursor()\n",
    "cursor.execute(\"SELECT P.nombre \\\n",
    "                FROM Profesores P \\\n",
    "                WHERE P.id IN (SELECT C.id_profesor \\\n",
    "                               FROM Cursos C, Inscritos I \\\n",
    "                               WHERE C.nombre = I.nombre_curso \\\n",
    "                               GROUP BY C.id_profesor \\\n",
    "                               HAVING COUNT(I.num_est)<5)\")\n",
    "print(cursor.fetchall())\n",
    "connection.close()"
   ]
  },
  {
   "cell_type": "markdown",
   "metadata": {},
   "source": [
    "#### Consulta: Encuentre los nombres de todos los cursos que tienen cátedra en la sala R128 o tienen cinco o más estudiantes.\n",
    "Primero, los cursos que tienen cinco o más estudiantes los podemos obtener de Inscritos, agrupando por curso e imponiendo que la cantidad de estudiantes sea mayor o igual a 5 (usando COUNT para obtener la cantidad de estudiantes y con HAVING imponemos la condición). Esto es lo que representa la consulta anidada. Con esto, de la tabla Cursos seleccionamos el nombre de los cursos cuya sala es la R128 o que están en el resultado de la primera consulta discutida (cursos con cinco o más estudiantes)."
   ]
  },
  {
   "cell_type": "code",
   "execution_count": 19,
   "metadata": {},
   "outputs": [
    {
     "name": "stdout",
     "output_type": "stream",
     "text": [
      "[('Data Structures',), ('Database Systems',), ('Operating System Design',), ('Archaeology of the Incas',), ('Patent Law',), ('Dairy Herd Management',), ('Intoduction to Math',)]\n"
     ]
    }
   ],
   "source": [
    "connection = sqlite3.connect('data.db')\n",
    "cursor = connection.cursor()\n",
    "cursor.execute(\"SELECT C.nombre \\\n",
    "                FROM Cursos C \\\n",
    "                WHERE C.sala = 'R128' OR C.nombre IN (SELECT I.nombre_curso \\\n",
    "                                                      FROM Inscritos I \\\n",
    "                                                      GROUP BY I.nombre_curso \\\n",
    "                                                      HAVING COUNT(I.num_est) >= 5)\")\n",
    "print(cursor.fetchall())\n",
    "connection.close()"
   ]
  },
  {
   "cell_type": "code",
   "execution_count": null,
   "metadata": {},
   "outputs": [],
   "source": []
  }
 ],
 "metadata": {
  "kernelspec": {
   "display_name": "Python 3",
   "language": "python",
   "name": "python3"
  },
  "language_info": {
   "codemirror_mode": {
    "name": "ipython",
    "version": 3
   },
   "file_extension": ".py",
   "mimetype": "text/x-python",
   "name": "python",
   "nbconvert_exporter": "python",
   "pygments_lexer": "ipython3",
   "version": "3.6.8"
  }
 },
 "nbformat": 4,
 "nbformat_minor": 2
}
