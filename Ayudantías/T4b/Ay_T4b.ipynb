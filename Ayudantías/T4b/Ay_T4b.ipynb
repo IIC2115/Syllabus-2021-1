{
 "cells": [
  {
   "cell_type": "markdown",
   "metadata": {},
   "source": [
    "# Taller 4b\n",
    "Importamos librerías a utilizar:"
   ]
  },
  {
   "cell_type": "code",
   "execution_count": 1,
   "metadata": {},
   "outputs": [],
   "source": [
    "import pandas as pd\n",
    "import numpy as np\n",
    "import matplotlib.pyplot as plt\n",
    "from sklearn.model_selection import train_test_split\n",
    "from sklearn.preprocessing import LabelEncoder, StandardScaler\n",
    "from sklearn.linear_model import LinearRegression\n",
    "from sklearn.neural_network import MLPRegressor\n",
    "from sklearn.tree import DecisionTreeClassifier\n",
    "from sklearn.neighbors import KNeighborsClassifier\n",
    "from sklearn import metrics\n",
    "from IPython.display import display"
   ]
  },
  {
   "cell_type": "markdown",
   "metadata": {},
   "source": [
    "Abrimos la base de datos y exploramos su contenido:"
   ]
  },
  {
   "cell_type": "code",
   "execution_count": 2,
   "metadata": {},
   "outputs": [
    {
     "name": "stdout",
     "output_type": "stream",
     "text": [
      "N° de datos: 2947\n"
     ]
    },
    {
     "data": {
      "text/html": [
       "<div>\n",
       "<style scoped>\n",
       "    .dataframe tbody tr th:only-of-type {\n",
       "        vertical-align: middle;\n",
       "    }\n",
       "\n",
       "    .dataframe tbody tr th {\n",
       "        vertical-align: top;\n",
       "    }\n",
       "\n",
       "    .dataframe thead th {\n",
       "        text-align: right;\n",
       "    }\n",
       "</style>\n",
       "<table border=\"1\" class=\"dataframe\">\n",
       "  <thead>\n",
       "    <tr style=\"text-align: right;\">\n",
       "      <th></th>\n",
       "      <th>Year</th>\n",
       "      <th>Month</th>\n",
       "      <th>Day</th>\n",
       "      <th>O3</th>\n",
       "      <th>PM2.5</th>\n",
       "      <th>Environmental_risk</th>\n",
       "    </tr>\n",
       "  </thead>\n",
       "  <tbody>\n",
       "    <tr>\n",
       "      <th>0</th>\n",
       "      <td>2008</td>\n",
       "      <td>1</td>\n",
       "      <td>1</td>\n",
       "      <td>29.63</td>\n",
       "      <td>NaN</td>\n",
       "      <td>NaN</td>\n",
       "    </tr>\n",
       "    <tr>\n",
       "      <th>1</th>\n",
       "      <td>2008</td>\n",
       "      <td>1</td>\n",
       "      <td>2</td>\n",
       "      <td>21.46</td>\n",
       "      <td>NaN</td>\n",
       "      <td>NaN</td>\n",
       "    </tr>\n",
       "    <tr>\n",
       "      <th>2</th>\n",
       "      <td>2008</td>\n",
       "      <td>1</td>\n",
       "      <td>3</td>\n",
       "      <td>24.25</td>\n",
       "      <td>NaN</td>\n",
       "      <td>NaN</td>\n",
       "    </tr>\n",
       "    <tr>\n",
       "      <th>3</th>\n",
       "      <td>2008</td>\n",
       "      <td>1</td>\n",
       "      <td>4</td>\n",
       "      <td>29.04</td>\n",
       "      <td>NaN</td>\n",
       "      <td>NaN</td>\n",
       "    </tr>\n",
       "    <tr>\n",
       "      <th>4</th>\n",
       "      <td>2008</td>\n",
       "      <td>1</td>\n",
       "      <td>5</td>\n",
       "      <td>30.17</td>\n",
       "      <td>NaN</td>\n",
       "      <td>NaN</td>\n",
       "    </tr>\n",
       "  </tbody>\n",
       "</table>\n",
       "</div>"
      ],
      "text/plain": [
       "   Year  Month  Day     O3  PM2.5 Environmental_risk\n",
       "0  2008      1    1  29.63    NaN                NaN\n",
       "1  2008      1    2  21.46    NaN                NaN\n",
       "2  2008      1    3  24.25    NaN                NaN\n",
       "3  2008      1    4  29.04    NaN                NaN\n",
       "4  2008      1    5  30.17    NaN                NaN"
      ]
     },
     "metadata": {},
     "output_type": "display_data"
    },
    {
     "data": {
      "text/html": [
       "<div>\n",
       "<style scoped>\n",
       "    .dataframe tbody tr th:only-of-type {\n",
       "        vertical-align: middle;\n",
       "    }\n",
       "\n",
       "    .dataframe tbody tr th {\n",
       "        vertical-align: top;\n",
       "    }\n",
       "\n",
       "    .dataframe thead th {\n",
       "        text-align: right;\n",
       "    }\n",
       "</style>\n",
       "<table border=\"1\" class=\"dataframe\">\n",
       "  <thead>\n",
       "    <tr style=\"text-align: right;\">\n",
       "      <th></th>\n",
       "      <th>Year</th>\n",
       "      <th>Month</th>\n",
       "      <th>Day</th>\n",
       "      <th>O3</th>\n",
       "      <th>PM2.5</th>\n",
       "    </tr>\n",
       "  </thead>\n",
       "  <tbody>\n",
       "    <tr>\n",
       "      <th>count</th>\n",
       "      <td>2947.000000</td>\n",
       "      <td>2947.000000</td>\n",
       "      <td>2947.000000</td>\n",
       "      <td>2878.000000</td>\n",
       "      <td>2725.000000</td>\n",
       "    </tr>\n",
       "    <tr>\n",
       "      <th>mean</th>\n",
       "      <td>2011.576179</td>\n",
       "      <td>6.405158</td>\n",
       "      <td>15.721751</td>\n",
       "      <td>16.313767</td>\n",
       "      <td>28.814594</td>\n",
       "    </tr>\n",
       "    <tr>\n",
       "      <th>std</th>\n",
       "      <td>2.350026</td>\n",
       "      <td>3.482292</td>\n",
       "      <td>8.782308</td>\n",
       "      <td>7.995680</td>\n",
       "      <td>17.479388</td>\n",
       "    </tr>\n",
       "    <tr>\n",
       "      <th>min</th>\n",
       "      <td>2008.000000</td>\n",
       "      <td>1.000000</td>\n",
       "      <td>1.000000</td>\n",
       "      <td>1.000000</td>\n",
       "      <td>5.000000</td>\n",
       "    </tr>\n",
       "    <tr>\n",
       "      <th>25%</th>\n",
       "      <td>2010.000000</td>\n",
       "      <td>3.000000</td>\n",
       "      <td>8.000000</td>\n",
       "      <td>9.392500</td>\n",
       "      <td>16.170000</td>\n",
       "    </tr>\n",
       "    <tr>\n",
       "      <th>50%</th>\n",
       "      <td>2012.000000</td>\n",
       "      <td>6.000000</td>\n",
       "      <td>16.000000</td>\n",
       "      <td>16.960000</td>\n",
       "      <td>23.210000</td>\n",
       "    </tr>\n",
       "    <tr>\n",
       "      <th>75%</th>\n",
       "      <td>2014.000000</td>\n",
       "      <td>9.000000</td>\n",
       "      <td>23.000000</td>\n",
       "      <td>22.357500</td>\n",
       "      <td>37.210000</td>\n",
       "    </tr>\n",
       "    <tr>\n",
       "      <th>max</th>\n",
       "      <td>2016.000000</td>\n",
       "      <td>12.000000</td>\n",
       "      <td>31.000000</td>\n",
       "      <td>56.300000</td>\n",
       "      <td>126.200000</td>\n",
       "    </tr>\n",
       "  </tbody>\n",
       "</table>\n",
       "</div>"
      ],
      "text/plain": [
       "              Year        Month          Day           O3        PM2.5\n",
       "count  2947.000000  2947.000000  2947.000000  2878.000000  2725.000000\n",
       "mean   2011.576179     6.405158    15.721751    16.313767    28.814594\n",
       "std       2.350026     3.482292     8.782308     7.995680    17.479388\n",
       "min    2008.000000     1.000000     1.000000     1.000000     5.000000\n",
       "25%    2010.000000     3.000000     8.000000     9.392500    16.170000\n",
       "50%    2012.000000     6.000000    16.000000    16.960000    23.210000\n",
       "75%    2014.000000     9.000000    23.000000    22.357500    37.210000\n",
       "max    2016.000000    12.000000    31.000000    56.300000   126.200000"
      ]
     },
     "metadata": {},
     "output_type": "display_data"
    }
   ],
   "source": [
    "df = pd.read_csv(\"data.csv\")\n",
    "print(f\"N° de datos: {len(df)}\")\n",
    "display(df.head())\n",
    "display(df.describe())"
   ]
  },
  {
   "cell_type": "markdown",
   "metadata": {},
   "source": [
    "Normalizamos los valores de las columnas categóricas. Para ``Enviromental_risk`` hay que tener un cuidado y es que posee distintos tipos de datos (``str`` para las categorías y ``float`` para los ``NaN``). De esta manera, pasamos todo a ``str`` y luego normalizamos, teniendo cuidado de identificar qué etiqueta se le asignó a los valores ``NaN``:"
   ]
  },
  {
   "cell_type": "code",
   "execution_count": 3,
   "metadata": {},
   "outputs": [
    {
     "data": {
      "text/html": [
       "<div>\n",
       "<style scoped>\n",
       "    .dataframe tbody tr th:only-of-type {\n",
       "        vertical-align: middle;\n",
       "    }\n",
       "\n",
       "    .dataframe tbody tr th {\n",
       "        vertical-align: top;\n",
       "    }\n",
       "\n",
       "    .dataframe thead th {\n",
       "        text-align: right;\n",
       "    }\n",
       "</style>\n",
       "<table border=\"1\" class=\"dataframe\">\n",
       "  <thead>\n",
       "    <tr style=\"text-align: right;\">\n",
       "      <th></th>\n",
       "      <th>Year</th>\n",
       "      <th>Month</th>\n",
       "      <th>Day</th>\n",
       "      <th>O3</th>\n",
       "      <th>PM2.5</th>\n",
       "      <th>Environmental_risk</th>\n",
       "    </tr>\n",
       "  </thead>\n",
       "  <tbody>\n",
       "    <tr>\n",
       "      <th>0</th>\n",
       "      <td>0</td>\n",
       "      <td>0</td>\n",
       "      <td>0</td>\n",
       "      <td>29.63</td>\n",
       "      <td>NaN</td>\n",
       "      <td>4</td>\n",
       "    </tr>\n",
       "    <tr>\n",
       "      <th>1</th>\n",
       "      <td>0</td>\n",
       "      <td>0</td>\n",
       "      <td>1</td>\n",
       "      <td>21.46</td>\n",
       "      <td>NaN</td>\n",
       "      <td>4</td>\n",
       "    </tr>\n",
       "    <tr>\n",
       "      <th>2</th>\n",
       "      <td>0</td>\n",
       "      <td>0</td>\n",
       "      <td>2</td>\n",
       "      <td>24.25</td>\n",
       "      <td>NaN</td>\n",
       "      <td>4</td>\n",
       "    </tr>\n",
       "    <tr>\n",
       "      <th>3</th>\n",
       "      <td>0</td>\n",
       "      <td>0</td>\n",
       "      <td>3</td>\n",
       "      <td>29.04</td>\n",
       "      <td>NaN</td>\n",
       "      <td>4</td>\n",
       "    </tr>\n",
       "    <tr>\n",
       "      <th>4</th>\n",
       "      <td>0</td>\n",
       "      <td>0</td>\n",
       "      <td>4</td>\n",
       "      <td>30.17</td>\n",
       "      <td>NaN</td>\n",
       "      <td>4</td>\n",
       "    </tr>\n",
       "  </tbody>\n",
       "</table>\n",
       "</div>"
      ],
      "text/plain": [
       "   Year  Month  Day     O3  PM2.5  Environmental_risk\n",
       "0     0      0    0  29.63    NaN                   4\n",
       "1     0      0    1  21.46    NaN                   4\n",
       "2     0      0    2  24.25    NaN                   4\n",
       "3     0      0    3  29.04    NaN                   4\n",
       "4     0      0    4  30.17    NaN                   4"
      ]
     },
     "execution_count": 3,
     "metadata": {},
     "output_type": "execute_result"
    }
   ],
   "source": [
    "label_encoder = LabelEncoder()\n",
    "for i in [\"Year\", \"Month\", \"Day\"]:\n",
    "    df[i] = label_encoder.fit_transform(df[i])\n",
    "df[\"Environmental_risk\"] = label_encoder.fit_transform(df[\"Environmental_risk\"].astype(str))\n",
    "df.head()"
   ]
  },
  {
   "cell_type": "markdown",
   "metadata": {},
   "source": [
    "De lo anterior tenemos que se le asignó una etiqueta de 4 a los valores ``NaN``."
   ]
  },
  {
   "cell_type": "markdown",
   "metadata": {},
   "source": [
    "## Misión 1"
   ]
  },
  {
   "cell_type": "markdown",
   "metadata": {},
   "source": [
    "Consideramos los registros que no tienen valores faltantes para ``Year``, ``Month``, ``Day``, ``O3`` y ``PM2.5`` y creamos un set de entrenamiento y otro de testeo:"
   ]
  },
  {
   "cell_type": "code",
   "execution_count": 4,
   "metadata": {},
   "outputs": [
    {
     "name": "stdout",
     "output_type": "stream",
     "text": [
      "Tamaño set entrenamiento: 1859\n",
      "Tamaño set test: 797\n"
     ]
    }
   ],
   "source": [
    "cond1 = ~(df[\"Year\"].isna() | df[\"Month\"].isna() | df[\"Day\"].isna() | df[\"O3\"].isna() | df[\"PM2.5\"].isna())\n",
    "df_pred = df[cond1].copy()\n",
    "training_set, test_set = train_test_split(df_pred.copy(), test_size = 0.3)\n",
    "\n",
    "print(f'Tamaño set entrenamiento: {len(training_set)}')\n",
    "print(f'Tamaño set test: {len(test_set)}')"
   ]
  },
  {
   "cell_type": "markdown",
   "metadata": {},
   "source": [
    "Normalizamos la variable numérica que se utilizará como feature (``O3``):"
   ]
  },
  {
   "cell_type": "code",
   "execution_count": 5,
   "metadata": {},
   "outputs": [
    {
     "data": {
      "text/html": [
       "<div>\n",
       "<style scoped>\n",
       "    .dataframe tbody tr th:only-of-type {\n",
       "        vertical-align: middle;\n",
       "    }\n",
       "\n",
       "    .dataframe tbody tr th {\n",
       "        vertical-align: top;\n",
       "    }\n",
       "\n",
       "    .dataframe thead th {\n",
       "        text-align: right;\n",
       "    }\n",
       "</style>\n",
       "<table border=\"1\" class=\"dataframe\">\n",
       "  <thead>\n",
       "    <tr style=\"text-align: right;\">\n",
       "      <th></th>\n",
       "      <th>Year</th>\n",
       "      <th>Month</th>\n",
       "      <th>Day</th>\n",
       "      <th>O3</th>\n",
       "      <th>PM2.5</th>\n",
       "      <th>Environmental_risk</th>\n",
       "    </tr>\n",
       "  </thead>\n",
       "  <tbody>\n",
       "    <tr>\n",
       "      <th>494</th>\n",
       "      <td>1</td>\n",
       "      <td>4</td>\n",
       "      <td>8</td>\n",
       "      <td>-0.400913</td>\n",
       "      <td>32.79</td>\n",
       "      <td>3</td>\n",
       "    </tr>\n",
       "    <tr>\n",
       "      <th>1787</th>\n",
       "      <td>4</td>\n",
       "      <td>11</td>\n",
       "      <td>8</td>\n",
       "      <td>1.916133</td>\n",
       "      <td>16.62</td>\n",
       "      <td>2</td>\n",
       "    </tr>\n",
       "    <tr>\n",
       "      <th>2132</th>\n",
       "      <td>5</td>\n",
       "      <td>10</td>\n",
       "      <td>18</td>\n",
       "      <td>0.862251</td>\n",
       "      <td>21.79</td>\n",
       "      <td>3</td>\n",
       "    </tr>\n",
       "    <tr>\n",
       "      <th>1574</th>\n",
       "      <td>4</td>\n",
       "      <td>4</td>\n",
       "      <td>9</td>\n",
       "      <td>-1.104746</td>\n",
       "      <td>34.31</td>\n",
       "      <td>3</td>\n",
       "    </tr>\n",
       "    <tr>\n",
       "      <th>1810</th>\n",
       "      <td>5</td>\n",
       "      <td>0</td>\n",
       "      <td>0</td>\n",
       "      <td>1.532450</td>\n",
       "      <td>27.54</td>\n",
       "      <td>0</td>\n",
       "    </tr>\n",
       "  </tbody>\n",
       "</table>\n",
       "</div>"
      ],
      "text/plain": [
       "      Year  Month  Day        O3  PM2.5  Environmental_risk\n",
       "494      1      4    8 -0.400913  32.79                   3\n",
       "1787     4     11    8  1.916133  16.62                   2\n",
       "2132     5     10   18  0.862251  21.79                   3\n",
       "1574     4      4    9 -1.104746  34.31                   3\n",
       "1810     5      0    0  1.532450  27.54                   0"
      ]
     },
     "execution_count": 5,
     "metadata": {},
     "output_type": "execute_result"
    }
   ],
   "source": [
    "scaler = StandardScaler()\n",
    "var_num = [\"O3\"]\n",
    "\n",
    "training_set[var_num] = scaler.fit_transform(training_set[var_num])\n",
    "test_set[var_num] = scaler.transform(test_set[var_num])\n",
    "\n",
    "training_set.head()"
   ]
  },
  {
   "cell_type": "markdown",
   "metadata": {},
   "source": [
    "Implementamos una regresión de mínimos cuadrados ordinarios (https://scikit-learn.org/stable/modules/linear_model.html#ordinary-least-squares):"
   ]
  },
  {
   "cell_type": "code",
   "execution_count": 6,
   "metadata": {},
   "outputs": [
    {
     "name": "stdout",
     "output_type": "stream",
     "text": [
      "Error cuadrático medio: 234.04407114991616\n"
     ]
    }
   ],
   "source": [
    "features = [\"Year\", \"Month\", \"Day\", \"O3\"]\n",
    "target = \"PM2.5\"\n",
    "reg1 = LinearRegression()\n",
    "reg1.fit(training_set[features], training_set[target])\n",
    "predictions = reg1.predict(test_set[features])\n",
    "mse = metrics.mean_squared_error(test_set[target], predictions)\n",
    "print(f\"Error cuadrático medio: {mse}\")"
   ]
  },
  {
   "cell_type": "markdown",
   "metadata": {},
   "source": [
    "Implementamos un modelo de regresión basado en redes neuronales (https://scikit-learn.org/stable/modules/neural_networks_supervised.html#regression):"
   ]
  },
  {
   "cell_type": "code",
   "execution_count": 7,
   "metadata": {},
   "outputs": [
    {
     "name": "stdout",
     "output_type": "stream",
     "text": [
      "Error cuadrático medio: 175.22068496840828\n"
     ]
    },
    {
     "name": "stderr",
     "output_type": "stream",
     "text": [
      "c:\\users\\matia\\appdata\\local\\programs\\python\\python36\\lib\\site-packages\\sklearn\\neural_network\\_multilayer_perceptron.py:585: ConvergenceWarning: Stochastic Optimizer: Maximum iterations (500) reached and the optimization hasn't converged yet.\n",
      "  % self.max_iter, ConvergenceWarning)\n"
     ]
    }
   ],
   "source": [
    "reg2 = MLPRegressor(random_state=1, max_iter=500)\n",
    "reg2.fit(training_set[features], training_set[target])\n",
    "predictions = reg2.predict(test_set[features])\n",
    "mse = metrics.mean_squared_error(test_set[target], predictions)\n",
    "print(f\"Error cuadrático medio: {mse}\")"
   ]
  },
  {
   "cell_type": "markdown",
   "metadata": {},
   "source": [
    "El que tiene menor error cuadrático medio es el segundo modelo. Lo utilizamos para completar datos faltantes:"
   ]
  },
  {
   "cell_type": "code",
   "execution_count": 8,
   "metadata": {},
   "outputs": [],
   "source": [
    "df[\"O3_norm\"] = scaler.transform(df[var_num])\n",
    "cond2 = ~(df[\"Year\"].isna() | df[\"Month\"].isna() | df[\"Day\"].isna() | df[\"O3\"].isna()) & df[\"PM2.5\"].isna()\n",
    "df.loc[cond2, \"PM2.5\"] = reg2.predict(df[cond2][[\"Year\", \"Month\", \"Day\", \"O3_norm\"]])"
   ]
  },
  {
   "cell_type": "markdown",
   "metadata": {},
   "source": [
    "## Misión 2"
   ]
  },
  {
   "cell_type": "markdown",
   "metadata": {},
   "source": [
    "Hacemos exactamente lo mismo, solo que ahora para predecir valores de ``O3``:"
   ]
  },
  {
   "cell_type": "code",
   "execution_count": 9,
   "metadata": {},
   "outputs": [
    {
     "name": "stdout",
     "output_type": "stream",
     "text": [
      "Tamaño set entrenamiento: 2014\n",
      "Tamaño set test: 864\n"
     ]
    }
   ],
   "source": [
    "cond1 = ~(df[\"Year\"].isna() | df[\"Month\"].isna() | df[\"Day\"].isna() | df[\"O3\"].isna() | df[\"PM2.5\"].isna())\n",
    "df_pred = df[cond1].copy()\n",
    "training_set, test_set = train_test_split(df_pred.copy(), test_size = 0.3)\n",
    "\n",
    "print(f'Tamaño set entrenamiento: {len(training_set)}')\n",
    "print(f'Tamaño set test: {len(test_set)}')"
   ]
  },
  {
   "cell_type": "code",
   "execution_count": 10,
   "metadata": {},
   "outputs": [
    {
     "data": {
      "text/html": [
       "<div>\n",
       "<style scoped>\n",
       "    .dataframe tbody tr th:only-of-type {\n",
       "        vertical-align: middle;\n",
       "    }\n",
       "\n",
       "    .dataframe tbody tr th {\n",
       "        vertical-align: top;\n",
       "    }\n",
       "\n",
       "    .dataframe thead th {\n",
       "        text-align: right;\n",
       "    }\n",
       "</style>\n",
       "<table border=\"1\" class=\"dataframe\">\n",
       "  <thead>\n",
       "    <tr style=\"text-align: right;\">\n",
       "      <th></th>\n",
       "      <th>Year</th>\n",
       "      <th>Month</th>\n",
       "      <th>Day</th>\n",
       "      <th>O3</th>\n",
       "      <th>PM2.5</th>\n",
       "      <th>Environmental_risk</th>\n",
       "      <th>O3_norm</th>\n",
       "    </tr>\n",
       "  </thead>\n",
       "  <tbody>\n",
       "    <tr>\n",
       "      <th>2527</th>\n",
       "      <td>6</td>\n",
       "      <td>11</td>\n",
       "      <td>18</td>\n",
       "      <td>15.75</td>\n",
       "      <td>-0.891352</td>\n",
       "      <td>4</td>\n",
       "      <td>-0.048373</td>\n",
       "    </tr>\n",
       "    <tr>\n",
       "      <th>1715</th>\n",
       "      <td>4</td>\n",
       "      <td>8</td>\n",
       "      <td>27</td>\n",
       "      <td>19.04</td>\n",
       "      <td>-0.853959</td>\n",
       "      <td>1</td>\n",
       "      <td>0.361470</td>\n",
       "    </tr>\n",
       "    <tr>\n",
       "      <th>2520</th>\n",
       "      <td>6</td>\n",
       "      <td>11</td>\n",
       "      <td>11</td>\n",
       "      <td>20.17</td>\n",
       "      <td>-0.773042</td>\n",
       "      <td>1</td>\n",
       "      <td>0.502237</td>\n",
       "    </tr>\n",
       "    <tr>\n",
       "      <th>336</th>\n",
       "      <td>0</td>\n",
       "      <td>11</td>\n",
       "      <td>1</td>\n",
       "      <td>24.17</td>\n",
       "      <td>-0.562080</td>\n",
       "      <td>1</td>\n",
       "      <td>1.000526</td>\n",
       "    </tr>\n",
       "    <tr>\n",
       "      <th>2497</th>\n",
       "      <td>6</td>\n",
       "      <td>10</td>\n",
       "      <td>18</td>\n",
       "      <td>20.80</td>\n",
       "      <td>-0.746294</td>\n",
       "      <td>4</td>\n",
       "      <td>0.580718</td>\n",
       "    </tr>\n",
       "  </tbody>\n",
       "</table>\n",
       "</div>"
      ],
      "text/plain": [
       "      Year  Month  Day     O3     PM2.5  Environmental_risk   O3_norm\n",
       "2527     6     11   18  15.75 -0.891352                   4 -0.048373\n",
       "1715     4      8   27  19.04 -0.853959                   1  0.361470\n",
       "2520     6     11   11  20.17 -0.773042                   1  0.502237\n",
       "336      0     11    1  24.17 -0.562080                   1  1.000526\n",
       "2497     6     10   18  20.80 -0.746294                   4  0.580718"
      ]
     },
     "execution_count": 10,
     "metadata": {},
     "output_type": "execute_result"
    }
   ],
   "source": [
    "scaler = StandardScaler()\n",
    "var_num = [\"PM2.5\"]\n",
    "\n",
    "training_set[var_num] = scaler.fit_transform(training_set[var_num])\n",
    "test_set[var_num] = scaler.transform(test_set[var_num])\n",
    "\n",
    "training_set.head()"
   ]
  },
  {
   "cell_type": "code",
   "execution_count": 11,
   "metadata": {},
   "outputs": [
    {
     "name": "stdout",
     "output_type": "stream",
     "text": [
      "Error cuadrático medio: 42.375098952826065\n"
     ]
    }
   ],
   "source": [
    "features = [\"Year\", \"Month\", \"Day\", \"PM2.5\"]\n",
    "target = \"O3\"\n",
    "reg1 = LinearRegression()\n",
    "reg1.fit(training_set[features], training_set[target])\n",
    "predictions = reg1.predict(test_set[features])\n",
    "mse = metrics.mean_squared_error(test_set[target], predictions)\n",
    "print(f\"Error cuadrático medio: {mse}\")"
   ]
  },
  {
   "cell_type": "code",
   "execution_count": 12,
   "metadata": {},
   "outputs": [
    {
     "name": "stdout",
     "output_type": "stream",
     "text": [
      "Error cuadrático medio: 19.360475816069428\n"
     ]
    }
   ],
   "source": [
    "reg2 = MLPRegressor(random_state=1, max_iter=500)\n",
    "reg2.fit(training_set[features], training_set[target])\n",
    "predictions = reg2.predict(test_set[features])\n",
    "mse = metrics.mean_squared_error(test_set[target], predictions)\n",
    "print(f\"Error cuadrático medio: {mse}\")"
   ]
  },
  {
   "cell_type": "markdown",
   "metadata": {},
   "source": [
    "El que tiene menor error cuadrático medio es el segundo modelo. Lo utilizamos para completar datos faltantes:"
   ]
  },
  {
   "cell_type": "code",
   "execution_count": 13,
   "metadata": {},
   "outputs": [],
   "source": [
    "df[\"PM2.5_norm\"] = scaler.transform(df[var_num])\n",
    "cond2 = ~(df[\"Year\"].isna() | df[\"Month\"].isna() | df[\"Day\"].isna() | df[\"PM2.5\"].isna()) & df[\"O3\"].isna()\n",
    "df.loc[cond2, \"O3\"] = reg2.predict(df[cond2][[\"Year\", \"Month\", \"Day\", \"PM2.5_norm\"]])"
   ]
  },
  {
   "cell_type": "markdown",
   "metadata": {},
   "source": [
    "## Misión 3"
   ]
  },
  {
   "cell_type": "markdown",
   "metadata": {},
   "source": [
    "Consideramos todas las observaciones con etiqueta distinta de 4 en ``Environmental_risk`` (recordar que son los NaN) y creamos un set de entrenamiento y testeo:"
   ]
  },
  {
   "cell_type": "code",
   "execution_count": 14,
   "metadata": {},
   "outputs": [
    {
     "name": "stdout",
     "output_type": "stream",
     "text": [
      "Tamaño set entrenamiento: 1765\n",
      "Tamaño set test: 757\n"
     ]
    }
   ],
   "source": [
    "cond1 = df[\"Environmental_risk\"] != 4\n",
    "df_pred = df[cond1].copy()\n",
    "training_set, test_set = train_test_split(df_pred.copy(), test_size = 0.3)\n",
    "\n",
    "print(f'Tamaño set entrenamiento: {len(training_set)}')\n",
    "print(f'Tamaño set test: {len(test_set)}')"
   ]
  },
  {
   "cell_type": "markdown",
   "metadata": {},
   "source": [
    "Normalizamos:"
   ]
  },
  {
   "cell_type": "code",
   "execution_count": 15,
   "metadata": {},
   "outputs": [
    {
     "data": {
      "text/html": [
       "<div>\n",
       "<style scoped>\n",
       "    .dataframe tbody tr th:only-of-type {\n",
       "        vertical-align: middle;\n",
       "    }\n",
       "\n",
       "    .dataframe tbody tr th {\n",
       "        vertical-align: top;\n",
       "    }\n",
       "\n",
       "    .dataframe thead th {\n",
       "        text-align: right;\n",
       "    }\n",
       "</style>\n",
       "<table border=\"1\" class=\"dataframe\">\n",
       "  <thead>\n",
       "    <tr style=\"text-align: right;\">\n",
       "      <th></th>\n",
       "      <th>Year</th>\n",
       "      <th>Month</th>\n",
       "      <th>Day</th>\n",
       "      <th>O3</th>\n",
       "      <th>PM2.5</th>\n",
       "      <th>Environmental_risk</th>\n",
       "      <th>O3_norm</th>\n",
       "      <th>PM2.5_norm</th>\n",
       "    </tr>\n",
       "  </thead>\n",
       "  <tbody>\n",
       "    <tr>\n",
       "      <th>1690</th>\n",
       "      <td>4</td>\n",
       "      <td>8</td>\n",
       "      <td>2</td>\n",
       "      <td>-0.711089</td>\n",
       "      <td>-0.661616</td>\n",
       "      <td>1</td>\n",
       "      <td>-0.779613</td>\n",
       "      <td>-0.610630</td>\n",
       "    </tr>\n",
       "    <tr>\n",
       "      <th>2291</th>\n",
       "      <td>6</td>\n",
       "      <td>3</td>\n",
       "      <td>26</td>\n",
       "      <td>-0.150196</td>\n",
       "      <td>-0.397958</td>\n",
       "      <td>3</td>\n",
       "      <td>-0.207825</td>\n",
       "      <td>-0.337246</td>\n",
       "    </tr>\n",
       "    <tr>\n",
       "      <th>133</th>\n",
       "      <td>0</td>\n",
       "      <td>4</td>\n",
       "      <td>12</td>\n",
       "      <td>-0.339604</td>\n",
       "      <td>1.633270</td>\n",
       "      <td>3</td>\n",
       "      <td>-0.400913</td>\n",
       "      <td>1.768907</td>\n",
       "    </tr>\n",
       "    <tr>\n",
       "      <th>975</th>\n",
       "      <td>2</td>\n",
       "      <td>8</td>\n",
       "      <td>14</td>\n",
       "      <td>-0.064657</td>\n",
       "      <td>-0.026160</td>\n",
       "      <td>3</td>\n",
       "      <td>-0.120625</td>\n",
       "      <td>0.048266</td>\n",
       "    </tr>\n",
       "    <tr>\n",
       "      <th>1984</th>\n",
       "      <td>5</td>\n",
       "      <td>5</td>\n",
       "      <td>23</td>\n",
       "      <td>-1.312307</td>\n",
       "      <td>-0.051802</td>\n",
       "      <td>3</td>\n",
       "      <td>-1.392509</td>\n",
       "      <td>0.021679</td>\n",
       "    </tr>\n",
       "  </tbody>\n",
       "</table>\n",
       "</div>"
      ],
      "text/plain": [
       "      Year  Month  Day        O3     PM2.5  Environmental_risk   O3_norm  \\\n",
       "1690     4      8    2 -0.711089 -0.661616                   1 -0.779613   \n",
       "2291     6      3   26 -0.150196 -0.397958                   3 -0.207825   \n",
       "133      0      4   12 -0.339604  1.633270                   3 -0.400913   \n",
       "975      2      8   14 -0.064657 -0.026160                   3 -0.120625   \n",
       "1984     5      5   23 -1.312307 -0.051802                   3 -1.392509   \n",
       "\n",
       "      PM2.5_norm  \n",
       "1690   -0.610630  \n",
       "2291   -0.337246  \n",
       "133     1.768907  \n",
       "975     0.048266  \n",
       "1984    0.021679  "
      ]
     },
     "execution_count": 15,
     "metadata": {},
     "output_type": "execute_result"
    }
   ],
   "source": [
    "scaler = StandardScaler()\n",
    "\n",
    "var_num = [\"O3\", \"PM2.5\"]\n",
    "training_set[var_num] = scaler.fit_transform(training_set[var_num])\n",
    "test_set[var_num] = scaler.transform(test_set[var_num])\n",
    "\n",
    "training_set.head()"
   ]
  },
  {
   "cell_type": "markdown",
   "metadata": {},
   "source": [
    "Implementamos un árbol de decisión como primer modelo (https://scikit-learn.org/stable/modules/generated/sklearn.tree.DecisionTreeClassifier.html#sklearn.tree.DecisionTreeClassifier):"
   ]
  },
  {
   "cell_type": "code",
   "execution_count": 16,
   "metadata": {},
   "outputs": [
    {
     "name": "stdout",
     "output_type": "stream",
     "text": [
      "Balanced accuracy: 0.9655405405405406\n"
     ]
    }
   ],
   "source": [
    "features = [\"Year\", \"Month\", \"Day\", \"O3\", \"PM2.5\"]\n",
    "target = \"Environmental_risk\"\n",
    "model1 = DecisionTreeClassifier()\n",
    "model1.fit(training_set[features], training_set[target])\n",
    "predictions = model1.predict(test_set[features])\n",
    "bas = metrics.balanced_accuracy_score(test_set[target], predictions)\n",
    "print(f\"Balanced accuracy: {bas}\")"
   ]
  },
  {
   "cell_type": "markdown",
   "metadata": {},
   "source": [
    "Ahora implementamos un modelo de K vecinos más cercanos (https://scikit-learn.org/stable/modules/generated/sklearn.neighbors.KNeighborsClassifier.html):"
   ]
  },
  {
   "cell_type": "code",
   "execution_count": 17,
   "metadata": {},
   "outputs": [
    {
     "name": "stdout",
     "output_type": "stream",
     "text": [
      "Balanced accuracy: 0.6034391829846375\n"
     ]
    }
   ],
   "source": [
    "model2 = KNeighborsClassifier()\n",
    "model2.fit(training_set[features], training_set[target])\n",
    "predictions = model2.predict(test_set[features])\n",
    "bas = metrics.balanced_accuracy_score(test_set[target], predictions)\n",
    "print(f\"Balanced accuracy: {bas}\")"
   ]
  },
  {
   "cell_type": "markdown",
   "metadata": {},
   "source": [
    "Usamos el modelo 1 que tiene mejor rendimiento para completar los datos faltantes:"
   ]
  },
  {
   "cell_type": "code",
   "execution_count": 18,
   "metadata": {},
   "outputs": [],
   "source": [
    "df[[\"O3_norm\", \"PM2.5_norm\"]] = scaler.transform(df[var_num])\n",
    "cond = df[\"Environmental_risk\"] == 4\n",
    "df.loc[cond, \"Environmental_risk\"] = model1.predict(df[cond][[\"Year\", \"Month\", \"Day\", \"O3_norm\", \"PM2.5_norm\"]])"
   ]
  },
  {
   "cell_type": "markdown",
   "metadata": {},
   "source": [
    "## Misión 4"
   ]
  },
  {
   "cell_type": "markdown",
   "metadata": {},
   "source": [
    "Veamos las nuevas frecuencias de las categorías:"
   ]
  },
  {
   "cell_type": "code",
   "execution_count": 19,
   "metadata": {},
   "outputs": [
    {
     "data": {
      "text/plain": [
       "3    1781\n",
       "1     830\n",
       "0     274\n",
       "2      62\n",
       "Name: Environmental_risk, dtype: int64"
      ]
     },
     "execution_count": 19,
     "metadata": {},
     "output_type": "execute_result"
    }
   ],
   "source": [
    "df[\"Environmental_risk\"].value_counts()"
   ]
  },
  {
   "cell_type": "markdown",
   "metadata": {},
   "source": [
    "Observamos que el modelo predictivo asignó de todas las categorías a los datos faltantes, mientras que en la T4a habíamos logrado desagregar los niveles de bajo, extremo y medio, sin asignar nunca un nivel de riesgo alto. Además, a pesar que definimos una condición para el nivel extremo, no existían datos faltantes que cumplieran esa condición, por lo que no se asignó nunca este nivel a datos faltantes.\n",
    "\n",
    "El esquema de asignación planteado en la T4a era el siguiente:\n",
    "\n",
    "- Si la cantidad de ``O3`` es mayor que 1.38095622 y la cantidad de ``PM2.5`` es menor que -0.65302355, asignar nivel ``extremo``.\n",
    "- Si la cantidad de ``O3`` es menor que 1.38095622 y la cantidad de ``PM2.5`` es menor que -0.65302355, asignar nivel ``Bajo``.\n",
    "- Asignar nivel ``Medio`` en otro caso.\n",
    "\n",
    "Notar que se estandarizó los valores para trabajar con la estandarización aplicada al inicio en el DataFrame. Para comparar este esquema con el modelo escogido, aplicamos el modelo sobre el set de testeo y evaluamos su rendimiento:"
   ]
  },
  {
   "cell_type": "code",
   "execution_count": 22,
   "metadata": {},
   "outputs": [
    {
     "data": {
      "text/plain": [
       "array([[ 1.38095622, -0.65302355]])"
      ]
     },
     "execution_count": 22,
     "metadata": {},
     "output_type": "execute_result"
    }
   ],
   "source": [
    "scaler.transform(np.array([[27,np.exp(2.9)]]))"
   ]
  },
  {
   "cell_type": "code",
   "execution_count": 23,
   "metadata": {},
   "outputs": [
    {
     "data": {
      "text/plain": [
       "0.6975225225225226"
      ]
     },
     "execution_count": 23,
     "metadata": {},
     "output_type": "execute_result"
    }
   ],
   "source": [
    "test_esquema = test_set.copy()\n",
    "cond1 = (test_esquema[\"O3\"] < 1.38095622) & (test_esquema[\"PM2.5\"] < -0.65302355)\n",
    "cond2 = (test_esquema[\"O3\"] > 1.38095622) & (test_esquema[\"PM2.5\"] < -0.65302355)\n",
    "cond3 = ~(cond1 | cond2)\n",
    "test_esquema.loc[cond1, \"Environmental_risk\"] = 1\n",
    "test_esquema.loc[cond2, \"Environmental_risk\"] = 2\n",
    "test_esquema.loc[cond3, \"Environmental_risk\"] = 3\n",
    "metrics.balanced_accuracy_score(test_set[\"Environmental_risk\"], test_esquema[\"Environmental_risk\"])"
   ]
  },
  {
   "cell_type": "markdown",
   "metadata": {},
   "source": [
    "El rendimiento del modelo predictivo es mucho mejor que el del esquema planteado para el T4a."
   ]
  },
  {
   "cell_type": "code",
   "execution_count": null,
   "metadata": {},
   "outputs": [],
   "source": []
  }
 ],
 "metadata": {
  "kernelspec": {
   "display_name": "Python 3",
   "language": "python",
   "name": "python3"
  },
  "language_info": {
   "codemirror_mode": {
    "name": "ipython",
    "version": 3
   },
   "file_extension": ".py",
   "mimetype": "text/x-python",
   "name": "python",
   "nbconvert_exporter": "python",
   "pygments_lexer": "ipython3",
   "version": "3.6.8"
  }
 },
 "nbformat": 4,
 "nbformat_minor": 2
}
