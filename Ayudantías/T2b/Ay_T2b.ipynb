{
 "cells": [
  {
   "cell_type": "markdown",
   "metadata": {},
   "source": [
    "# IIC2115 - Programación Como Herramienta para la Ingeniería\n",
    "## Taller 2b\n",
    "### Ayudante: Matías Gaete Silva - mzgaete@uc.cl"
   ]
  },
  {
   "cell_type": "code",
   "execution_count": 1,
   "metadata": {},
   "outputs": [],
   "source": [
    "from collections import defaultdict"
   ]
  },
  {
   "cell_type": "markdown",
   "metadata": {},
   "source": [
    "#### Ejercicio 1\n",
    "Creamos la clase ``Nodo``, que tiene como atributos a sus hijos izquierdo y derecho. Posee métodos para agregarlos y retonarlos."
   ]
  },
  {
   "cell_type": "code",
   "execution_count": 2,
   "metadata": {},
   "outputs": [],
   "source": [
    "class Nodo:\n",
    "\n",
    "    def __init__(self):\n",
    "        self.izq = None\n",
    "        self.der = None\n",
    "\n",
    "    def agregar_izq(self, izq):\n",
    "        self.izq = izq\n",
    "\n",
    "    def agregar_der(self, der):\n",
    "        self.der = der\n",
    "\n",
    "    def obtener_izq(self):\n",
    "        return self.izq\n",
    "\n",
    "    def obtener_der(self):\n",
    "        return self.der"
   ]
  },
  {
   "cell_type": "markdown",
   "metadata": {},
   "source": [
    "Creamos la clase ``ArbolBinario``, que tiene como atributos un diccionario con todos los nodos del árbol y su raíz. Posee los métodos ``agregar_nodos`` y ``agregar_raiz`` para incorporar la información del formato del input a nuestra estructura de datos. ``obtener_raiz`` retorna la raiz del árbol."
   ]
  },
  {
   "cell_type": "code",
   "execution_count": 3,
   "metadata": {},
   "outputs": [],
   "source": [
    "class ArbolBinario:\n",
    "\n",
    "    def __init__(self):\n",
    "        self.nodos = {}\n",
    "        self.raiz = None\n",
    "\n",
    "    def agregar_nodos(self, padre, izq, der):\n",
    "        if padre not in self.nodos:\n",
    "            self.nodos[padre] = Nodo()\n",
    "        if izq is not None:  # izq != None\n",
    "            if izq not in self.nodos:\n",
    "                self.nodos[izq] = Nodo()\n",
    "            self.nodos[padre].agregar_izq(self.nodos[izq])\n",
    "        if der is not None:  # der != None\n",
    "            if der not in self.nodos:\n",
    "                self.nodos[der] = Nodo()\n",
    "            self.nodos[padre].agregar_der(self.nodos[der])\n",
    "\n",
    "    def agregar_raiz(self, raiz, izq, der):\n",
    "        self.nodos[raiz] = Nodo()\n",
    "        self.raiz = self.nodos[raiz]\n",
    "        if izq is not None:  # izq != None\n",
    "            if izq not in self.nodos:\n",
    "                self.nodos[izq] = Nodo()\n",
    "            self.nodos[raiz].agregar_izq(self.nodos[izq])\n",
    "        if der is not None:  # der != None\n",
    "            if der not in self.nodos:\n",
    "                self.nodos[der] = Nodo()\n",
    "            self.nodos[raiz].agregar_der(self.nodos[der])\n",
    "\n",
    "    def obtener_raiz(self):\n",
    "        return self.raiz"
   ]
  },
  {
   "cell_type": "markdown",
   "metadata": {},
   "source": [
    "Creamos la función ``profundidad_arbol_binario`` que recibe una lista de tuplas de acuerdo con el formato dado y retorna la profundidad del árbol. Para ello, creamos el árbol y buscamos la mayor profundidad de manera recursiva con ``profundidad_arbol_binario_recursivo``."
   ]
  },
  {
   "cell_type": "code",
   "execution_count": 4,
   "metadata": {},
   "outputs": [],
   "source": [
    "def profundidad_arbol_binario(arbol):\n",
    "    arbol_binario = ArbolBinario()\n",
    "    raiz, izq, der = arbol[0]\n",
    "    arbol_binario.agregar_raiz(raiz, izq, der)\n",
    "    for i in range(1, len(arbol)):\n",
    "        padre, izq, der = arbol[i]\n",
    "        arbol_binario.agregar_nodos(padre, izq, der)\n",
    "    profundidad = profundidad_arbol_binario_recursivo(arbol_binario.obtener_raiz())\n",
    "    return profundidad"
   ]
  },
  {
   "cell_type": "markdown",
   "metadata": {},
   "source": [
    "Creamos la función ``profundidad_arbol_binario_recursivo`` que recibe un objeto de la clase ``Nodo`` (que inicialmente será la raíz del árbol) y recursivamente encuentra la profundidad del árbol, obteniendo la profundidad del subárbol izquierdo (en el que su hijo izquierdo será la raíz de ese subárbol) y del subárbol derecho (en el que su hijo derecho será la raíz de ese subárbol). Retorna -1 si se llega a None (ya que será el caso hoja -> None, pero ese arco no existe en el árbol en realidad), mientras que para otro caso retorna el máximo entre las profundidades de los subárboles."
   ]
  },
  {
   "cell_type": "code",
   "execution_count": 5,
   "metadata": {},
   "outputs": [],
   "source": [
    "def profundidad_arbol_binario_recursivo(nodo):\n",
    "    if nodo is None:  # nodo == None\n",
    "        return -1\n",
    "    l_arbol_izq = profundidad_arbol_binario_recursivo(nodo.obtener_izq())\n",
    "    l_arbol_der = profundidad_arbol_binario_recursivo(nodo.obtener_der())\n",
    "    return max(l_arbol_izq, l_arbol_der) + 1"
   ]
  },
  {
   "cell_type": "markdown",
   "metadata": {},
   "source": [
    "Ejemplo de ejecución:"
   ]
  },
  {
   "cell_type": "code",
   "execution_count": 6,
   "metadata": {},
   "outputs": [
    {
     "name": "stdout",
     "output_type": "stream",
     "text": [
      "3\n",
      "0\n"
     ]
    }
   ],
   "source": [
    "if __name__ == \"__main__\":\n",
    "    arbol = arbol = [(0, 1, 2), (4, None, 6), (1, 3, None), (2, 4, 5)]\n",
    "    profundidad = profundidad_arbol_binario(arbol)\n",
    "    print(profundidad)\n",
    "    arbol = [(1, None, None)]\n",
    "    profundidad = profundidad_arbol_binario(arbol)\n",
    "    print(profundidad)"
   ]
  },
  {
   "cell_type": "markdown",
   "metadata": {},
   "source": [
    "**Mejora 1**: Solución más elegante usando defaultdicts (ojo que solo cambia ``ArbolBinario``, se sigue utilizando el resto de funciones y clases)."
   ]
  },
  {
   "cell_type": "code",
   "execution_count": 7,
   "metadata": {},
   "outputs": [],
   "source": [
    "def crear_nodo():\n",
    "    return Nodo()"
   ]
  },
  {
   "cell_type": "code",
   "execution_count": 8,
   "metadata": {},
   "outputs": [],
   "source": [
    "class ArbolBinario:\n",
    "\n",
    "    def __init__(self):\n",
    "        self.nodos = defaultdict(crear_nodo)\n",
    "        self.raiz = None\n",
    "\n",
    "    def agregar_nodos(self, padre, izq, der):\n",
    "        if izq is not None:  # izq != None\n",
    "            self.nodos[padre].agregar_izq(self.nodos[izq])\n",
    "        if der is not None:  # der != None\n",
    "            self.nodos[padre].agregar_der(self.nodos[der])\n",
    "\n",
    "    def agregar_raiz(self, raiz, izq, der):\n",
    "        self.raiz = self.nodos[raiz]\n",
    "        if izq is not None:  # izq != None\n",
    "            self.nodos[raiz].agregar_izq(self.nodos[izq])\n",
    "        if der is not None:  # der != None\n",
    "            self.nodos[raiz].agregar_der(self.nodos[der])\n",
    "\n",
    "    def obtener_raiz(self):\n",
    "        return self.raiz"
   ]
  },
  {
   "cell_type": "code",
   "execution_count": 9,
   "metadata": {},
   "outputs": [
    {
     "name": "stdout",
     "output_type": "stream",
     "text": [
      "3\n",
      "0\n"
     ]
    }
   ],
   "source": [
    "if __name__ == \"__main__\":\n",
    "    arbol = arbol = [(0, 1, 2), (4, None, 6), (1, 3, None), (2, 4, 5)]\n",
    "    profundidad = profundidad_arbol_binario(arbol)\n",
    "    print(profundidad)\n",
    "    arbol = [(1, None, None)]\n",
    "    profundidad = profundidad_arbol_binario(arbol)\n",
    "    print(profundidad)"
   ]
  },
  {
   "cell_type": "markdown",
   "metadata": {},
   "source": [
    "#### Ejercicio 2\n",
    "Definimos ``grupos_estudio``, que recibe una lista de números naturales y un número $K$ y retorna una lista de listas donde cada sublista contiene los índices de las notas cuyo grupo suma lo mismo que los demás."
   ]
  },
  {
   "cell_type": "code",
   "execution_count": 10,
   "metadata": {},
   "outputs": [],
   "source": [
    "def grupos_estudio(puntajes, K):\n",
    "    suma_puntajes = sum(puntajes)\n",
    "    if suma_puntajes % K != 0:\n",
    "        return [[] for i in range(K)]\n",
    "    target = sum(puntajes) // K\n",
    "    grupos = [[] for i in range(K)]\n",
    "    sumas_grupos = [0]*K\n",
    "    grupos_estudio_backtracking(puntajes, sumas_grupos, grupos, target)\n",
    "    return grupos"
   ]
  },
  {
   "cell_type": "markdown",
   "metadata": {},
   "source": [
    "Ahora definimos ``grupos_estudio_backtracking``, que retorna True si se alcanza una configuración válida, False en otro caso. Va formando los grupos y verificando si se alcanza una configuración válida, si no entonces vuelve un paso atrás para formar otra configuración y continúa para verificar si esta será válida."
   ]
  },
  {
   "cell_type": "code",
   "execution_count": 11,
   "metadata": {},
   "outputs": [],
   "source": [
    "def grupos_estudio_backtracking(puntajes, sumas_grupos, grupos, target):\n",
    "    if not puntajes:  # len(puntajes) == 0\n",
    "        return True\n",
    "    pos = len(puntajes)-1\n",
    "    puntaje = puntajes.pop()\n",
    "    for i, suma_actual in enumerate(sumas_grupos):\n",
    "        if suma_actual + puntaje <= target:\n",
    "            sumas_grupos[i] += puntaje\n",
    "            grupos[i].append(pos)\n",
    "            if grupos_estudio_backtracking(puntajes, sumas_grupos, grupos, target):\n",
    "                return True\n",
    "            sumas_grupos[i] -= puntaje\n",
    "            grupos[i].pop()\n",
    "    puntajes.append(puntaje)\n",
    "    return False"
   ]
  },
  {
   "cell_type": "markdown",
   "metadata": {},
   "source": [
    "Ejemplo de ejecución:"
   ]
  },
  {
   "cell_type": "code",
   "execution_count": 12,
   "metadata": {},
   "outputs": [
    {
     "name": "stdout",
     "output_type": "stream",
     "text": [
      "[[11, 10, 4], [9, 8], [7, 6, 5, 1], [3], [2, 0]]\n",
      "[[6, 0], [5, 3], [4], [2, 1]]\n",
      "[[], [], []]\n",
      "[[4, 1], [3, 2], [0]]\n"
     ]
    }
   ],
   "source": [
    "if __name__ == \"__main__\":\n",
    "    puntajes = [7, 3, 5, 12, 2, 1, 5, 3, 8, 4, 6, 4]\n",
    "    K = 5\n",
    "    grupos = grupos_estudio(puntajes, K)\n",
    "    print(grupos)\n",
    "    puntajes = [4, 3, 2, 3, 5, 2, 1]\n",
    "    K = 4\n",
    "    grupos = grupos_estudio(puntajes, K)\n",
    "    print(grupos)\n",
    "    puntajes = [6, 4, 1, 5, 3]\n",
    "    K = 3\n",
    "    grupos = grupos_estudio(puntajes, K)\n",
    "    print(grupos)\n",
    "    puntajes = [6, 4, 1, 5, 2]\n",
    "    K = 3\n",
    "    grupos = grupos_estudio(puntajes, K)\n",
    "    print(grupos)"
   ]
  },
  {
   "cell_type": "markdown",
   "metadata": {},
   "source": [
    "**Mejora 1:** Si tras probar colocar un índice en un grupo se llega a una configuración inválida y tras sacarlo el grupo queda vacío, ¿es necesario volver a insertar ese índice en los grupos siguientes? No, porque sabemos que se llegará a una configuración inválida (por ejemplo, si se llega a [[1,4], [5] , [3]] y es inválida, es innecesario formar la configuración [[1,4], [3], [5]])."
   ]
  },
  {
   "cell_type": "code",
   "execution_count": 13,
   "metadata": {},
   "outputs": [],
   "source": [
    "def grupos_estudio_backtracking(puntajes, sumas_grupos, grupos, target):\n",
    "    if not puntajes:  # len(puntajes) == 0\n",
    "        return True\n",
    "    pos = len(puntajes)-1\n",
    "    puntaje = puntajes.pop()\n",
    "    for i, suma_actual in enumerate(sumas_grupos):\n",
    "        if suma_actual + puntaje <= target:\n",
    "            sumas_grupos[i] += puntaje\n",
    "            grupos[i].append(pos)\n",
    "            if grupos_estudio_backtracking(puntajes, sumas_grupos, grupos, target):\n",
    "                return True\n",
    "            sumas_grupos[i] -= puntaje\n",
    "            grupos[i].pop()\n",
    "        if not suma_actual:  # suma_actual == 0\n",
    "            break\n",
    "    puntajes.append(puntaje)\n",
    "    return False"
   ]
  },
  {
   "cell_type": "code",
   "execution_count": 14,
   "metadata": {},
   "outputs": [
    {
     "name": "stdout",
     "output_type": "stream",
     "text": [
      "[[11, 10, 4], [9, 8], [7, 6, 5, 1], [3], [2, 0]]\n",
      "[[6, 0], [5, 3], [4], [2, 1]]\n",
      "[[], [], []]\n",
      "[[4, 1], [3, 2], [0]]\n"
     ]
    }
   ],
   "source": [
    "if __name__ == \"__main__\":\n",
    "    puntajes = [7, 3, 5, 12, 2, 1, 5, 3, 8, 4, 6, 4]\n",
    "    K = 5\n",
    "    grupos = grupos_estudio(puntajes, K)\n",
    "    print(grupos)\n",
    "    puntajes = [4, 3, 2, 3, 5, 2, 1]\n",
    "    K = 4\n",
    "    grupos = grupos_estudio(puntajes, K)\n",
    "    print(grupos)\n",
    "    puntajes = [6, 4, 1, 5, 3]\n",
    "    K = 3\n",
    "    grupos = grupos_estudio(puntajes, K)\n",
    "    print(grupos)\n",
    "    puntajes = [6, 4, 1, 5, 2]\n",
    "    K = 3\n",
    "    grupos = grupos_estudio(puntajes, K)\n",
    "    print(grupos)"
   ]
  },
  {
   "cell_type": "code",
   "execution_count": null,
   "metadata": {},
   "outputs": [],
   "source": []
  }
 ],
 "metadata": {
  "kernelspec": {
   "display_name": "Python 3",
   "language": "python",
   "name": "python3"
  },
  "language_info": {
   "codemirror_mode": {
    "name": "ipython",
    "version": 3
   },
   "file_extension": ".py",
   "mimetype": "text/x-python",
   "name": "python",
   "nbconvert_exporter": "python",
   "pygments_lexer": "ipython3",
   "version": "3.6.8"
  }
 },
 "nbformat": 4,
 "nbformat_minor": 2
}
