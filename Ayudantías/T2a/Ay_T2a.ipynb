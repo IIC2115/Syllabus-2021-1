{
 "cells": [
  {
   "cell_type": "markdown",
   "metadata": {},
   "source": [
    "# IIC2115 - Programación Como Herramienta para la Ingeniería\n",
    "## Taller 2a\n",
    "### Ayudante: Matías Gaete Silva - mzgaete@uc.cl"
   ]
  },
  {
   "cell_type": "code",
   "execution_count": 6,
   "metadata": {},
   "outputs": [],
   "source": [
    "from collections import defaultdict, deque\n",
    "import time"
   ]
  },
  {
   "cell_type": "markdown",
   "metadata": {},
   "source": [
    "#### Ejercicio 1\n",
    "Definimos la función ``calcular_max_long`` que recibe un string compuesto de paréntesis y retorna la longitud de la secuencia balanceada más larga de paréntesis en el string."
   ]
  },
  {
   "cell_type": "code",
   "execution_count": 7,
   "metadata": {},
   "outputs": [],
   "source": [
    "def calcular_max_long(parentesis):\n",
    "    max_long = 0\n",
    "    stack = [-1]\n",
    "    for i in range(len(parentesis)):\n",
    "        if parentesis[i] == \"(\":\n",
    "            stack.append(i)\n",
    "        else:\n",
    "            stack.pop()\n",
    "            if len(stack) == 0:\n",
    "                stack.append(i)\n",
    "            long_actual = i - stack[-1]\n",
    "            if long_actual > max_long:\n",
    "                max_long = long_actual\n",
    "    return max_long"
   ]
  },
  {
   "cell_type": "markdown",
   "metadata": {},
   "source": [
    "Probamos el código con el ejemplo del enunciado y otros vistos en las slides:"
   ]
  },
  {
   "cell_type": "code",
   "execution_count": 8,
   "metadata": {},
   "outputs": [
    {
     "name": "stdout",
     "output_type": "stream",
     "text": [
      "4\n",
      "4\n",
      "6\n"
     ]
    }
   ],
   "source": [
    "if __name__ == \"__main__\":\n",
    "    parentesis = \"((()()\"\n",
    "    max_long = calcular_max_long(parentesis)\n",
    "    print(max_long)\n",
    "    parentesis = \"((())((\"\n",
    "    max_long = calcular_max_long(parentesis)\n",
    "    print(max_long)\n",
    "    parentesis = \"()()()\"\n",
    "    max_long = calcular_max_long(parentesis)\n",
    "    print(max_long)"
   ]
  },
  {
   "cell_type": "markdown",
   "metadata": {},
   "source": [
    "### Ejercicio 2\n",
    "Definimos la función ``crear_grafo`` que recibe una lista de tuplas que representan arcos y retorna un diccionario cuyas llaves son los nodos y los valores son listas que contienen los nodos posteriores de estos."
   ]
  },
  {
   "cell_type": "code",
   "execution_count": 9,
   "metadata": {},
   "outputs": [],
   "source": [
    "def crear_grafo(grafo):\n",
    "    graph = defaultdict(list)\n",
    "    for i, j in grafo:\n",
    "        graph[i].append(j)\n",
    "    return graph"
   ]
  },
  {
   "cell_type": "markdown",
   "metadata": {},
   "source": [
    "Definimos la función ``caminos_largo_m`` que recibe una lista de tuplas que representan arcos, un nodo origen, un nodo destino y un natural $m$. Retorna la cantidad de caminos del origen al destino de largo $m$."
   ]
  },
  {
   "cell_type": "code",
   "execution_count": 10,
   "metadata": {},
   "outputs": [],
   "source": [
    "def caminos_largo_m(grafo, origen, destino, m):\n",
    "    if m == 0:\n",
    "        if origen == destino:\n",
    "            #print([origen])\n",
    "            return 1\n",
    "        return 0\n",
    "    graph = crear_grafo(grafo)\n",
    "    cola = deque([[origen]])\n",
    "    num_caminos = 0\n",
    "    while cola:\n",
    "        camino = cola.popleft()\n",
    "        last = camino[-1]\n",
    "        if len(camino) < m:\n",
    "            for i in graph[last]:\n",
    "                cola.append(camino + [i])\n",
    "        else:\n",
    "            if destino in graph[last]:\n",
    "                #print(camino + [destino])\n",
    "                num_caminos += 1\n",
    "    return num_caminos"
   ]
  },
  {
   "cell_type": "markdown",
   "metadata": {},
   "source": [
    "Probamos el código con el ejemplo del enunciado y otros vistos en las slides:"
   ]
  },
  {
   "cell_type": "code",
   "execution_count": 11,
   "metadata": {},
   "outputs": [
    {
     "name": "stdout",
     "output_type": "stream",
     "text": [
      "3\n",
      "4\n"
     ]
    }
   ],
   "source": [
    "if __name__ == \"__main__\":\n",
    "    grafo = [(0, 6), (0, 1), (1, 6), (1, 5), (1, 2), (2, 3), (3, 4), (5, 2), (5, 3), (5, 4), (6, 5), (7, 6), (7, 1)]\n",
    "    origen = 0\n",
    "    destino = 3\n",
    "    m = 4\n",
    "    num_caminos = caminos_largo_m(grafo, origen, destino, m)\n",
    "    print(num_caminos)\n",
    "    grafo = [(0,1),(0,2),(1,0),(1,2),(1,3),(1,4),(2,4),(3,2),(4,2),(4,3)]\n",
    "    origen = 0\n",
    "    destino = 2\n",
    "    m = 3\n",
    "    num_caminos = caminos_largo_m(grafo, origen, destino, m)\n",
    "    print(num_caminos)"
   ]
  },
  {
   "cell_type": "markdown",
   "metadata": {},
   "source": [
    "Anexo: Solución un poco más eficiente que no guarda los caminos"
   ]
  },
  {
   "cell_type": "code",
   "execution_count": 12,
   "metadata": {},
   "outputs": [],
   "source": [
    "def caminos_largo_m2(grafo, origen, destino, m):\n",
    "    if m == 0:\n",
    "        if origen == destino:\n",
    "            return 1\n",
    "        return 0\n",
    "    graph = crear_grafo(grafo)\n",
    "    nodos = [origen]\n",
    "    num_caminos = 0\n",
    "    contador = 0\n",
    "    while nodos:\n",
    "        if contador < m - 1:\n",
    "            prox_nodos = []\n",
    "            for nodo in nodos:\n",
    "                prox_nodos += graph[nodo]\n",
    "            nodos = prox_nodos\n",
    "        else:\n",
    "            for nodo in nodos:\n",
    "                if destino in graph[nodo]:\n",
    "                    num_caminos += 1\n",
    "            nodos = []\n",
    "        contador += 1\n",
    "    return num_caminos"
   ]
  },
  {
   "cell_type": "code",
   "execution_count": 13,
   "metadata": {},
   "outputs": [
    {
     "name": "stdout",
     "output_type": "stream",
     "text": [
      "3\n",
      "4\n"
     ]
    }
   ],
   "source": [
    "if __name__ == \"__main__\":\n",
    "    grafo = [(0, 6), (0, 1), (1, 6), (1, 5), (1, 2), (2, 3), (3, 4), (5, 2), (5, 3), (5, 4), (6, 5), (7, 6), (7, 1)]\n",
    "    origen = 0\n",
    "    destino = 3\n",
    "    m = 4\n",
    "    num_caminos = caminos_largo_m2(grafo, origen, destino, m)\n",
    "    print(num_caminos)\n",
    "    grafo = [(0,1),(0,2),(1,0),(1,2),(1,3),(1,4),(2,4),(3,2),(4,2),(4,3)]\n",
    "    origen = 0\n",
    "    destino = 2\n",
    "    m = 3\n",
    "    num_caminos = caminos_largo_m2(grafo, origen, destino, m)\n",
    "    print(num_caminos)"
   ]
  },
  {
   "cell_type": "markdown",
   "metadata": {},
   "source": [
    "Comparamos tiempos de ejecución:"
   ]
  },
  {
   "cell_type": "code",
   "execution_count": 14,
   "metadata": {},
   "outputs": [],
   "source": [
    "def crear_grafo_completo(n):\n",
    "    nodos = {i for i in range(n)}\n",
    "    grafo = [(i, j) for i in nodos for j in nodos]\n",
    "    return grafo"
   ]
  },
  {
   "cell_type": "code",
   "execution_count": 15,
   "metadata": {},
   "outputs": [
    {
     "name": "stdout",
     "output_type": "stream",
     "text": [
      "Ej. 2 solución 1: 0.002944169864710149\n",
      "Ej. 2 solución 2: 0.0005357467050802604\n"
     ]
    }
   ],
   "source": [
    "if __name__ == \"__main__\":\n",
    "    n = 7\n",
    "    grafo = crear_grafo_completo(n)\n",
    "    l1 = []\n",
    "    l2 = []\n",
    "    for origen in range(n):\n",
    "        for destino in range(n):\n",
    "            for m in range(n):\n",
    "                ti = time.time()\n",
    "                c1 = caminos_largo_m(grafo, origen, destino, m)\n",
    "                tf = time.time()\n",
    "                l1.append(tf-ti)\n",
    "                ti = time.time()\n",
    "                c2 = caminos_largo_m2(grafo, origen, destino, m)\n",
    "                tf = time.time()\n",
    "                l2.append(tf-ti)\n",
    "                if c1 != c2:\n",
    "                    print(origen, destino, m, c1, c2)\n",
    "    print(f\"Ej. 2 solución 1: {sum(l1)/len(l1)}\")\n",
    "    print(f\"Ej. 2 solución 2: {sum(l2)/len(l2)}\")"
   ]
  },
  {
   "cell_type": "code",
   "execution_count": null,
   "metadata": {},
   "outputs": [],
   "source": []
  }
 ],
 "metadata": {
  "kernelspec": {
   "display_name": "Python 3",
   "language": "python",
   "name": "python3"
  },
  "language_info": {
   "codemirror_mode": {
    "name": "ipython",
    "version": 3
   },
   "file_extension": ".py",
   "mimetype": "text/x-python",
   "name": "python",
   "nbconvert_exporter": "python",
   "pygments_lexer": "ipython3",
   "version": "3.6.8"
  }
 },
 "nbformat": 4,
 "nbformat_minor": 2
}
