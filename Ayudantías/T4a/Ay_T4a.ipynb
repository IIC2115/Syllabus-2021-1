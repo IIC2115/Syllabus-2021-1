{
 "cells": [
  {
   "cell_type": "markdown",
   "metadata": {},
   "source": [
    "# Taller 4a\n",
    "Importamos librerías necesarias:"
   ]
  },
  {
   "cell_type": "code",
   "execution_count": 1,
   "metadata": {},
   "outputs": [],
   "source": [
    "import pandas as pd\n",
    "import matplotlib.pyplot as plt\n",
    "import numpy as np\n",
    "from IPython.display import display"
   ]
  },
  {
   "cell_type": "markdown",
   "metadata": {},
   "source": [
    "## Misión 0"
   ]
  },
  {
   "cell_type": "markdown",
   "metadata": {},
   "source": [
    "Cargamos la base de datos y visualizamos su formato:"
   ]
  },
  {
   "cell_type": "code",
   "execution_count": 2,
   "metadata": {},
   "outputs": [
    {
     "data": {
      "text/html": [
       "<div>\n",
       "<style scoped>\n",
       "    .dataframe tbody tr th:only-of-type {\n",
       "        vertical-align: middle;\n",
       "    }\n",
       "\n",
       "    .dataframe tbody tr th {\n",
       "        vertical-align: top;\n",
       "    }\n",
       "\n",
       "    .dataframe thead th {\n",
       "        text-align: right;\n",
       "    }\n",
       "</style>\n",
       "<table border=\"1\" class=\"dataframe\">\n",
       "  <thead>\n",
       "    <tr style=\"text-align: right;\">\n",
       "      <th></th>\n",
       "      <th>Year</th>\n",
       "      <th>Month</th>\n",
       "      <th>Day</th>\n",
       "      <th>O3</th>\n",
       "      <th>PM2.5</th>\n",
       "      <th>Environmental_risk</th>\n",
       "    </tr>\n",
       "  </thead>\n",
       "  <tbody>\n",
       "    <tr>\n",
       "      <th>0</th>\n",
       "      <td>2008</td>\n",
       "      <td>1</td>\n",
       "      <td>1</td>\n",
       "      <td>29.63</td>\n",
       "      <td>NaN</td>\n",
       "      <td>NaN</td>\n",
       "    </tr>\n",
       "    <tr>\n",
       "      <th>1</th>\n",
       "      <td>2008</td>\n",
       "      <td>1</td>\n",
       "      <td>2</td>\n",
       "      <td>21.46</td>\n",
       "      <td>NaN</td>\n",
       "      <td>NaN</td>\n",
       "    </tr>\n",
       "    <tr>\n",
       "      <th>2</th>\n",
       "      <td>2008</td>\n",
       "      <td>1</td>\n",
       "      <td>3</td>\n",
       "      <td>24.25</td>\n",
       "      <td>NaN</td>\n",
       "      <td>NaN</td>\n",
       "    </tr>\n",
       "    <tr>\n",
       "      <th>3</th>\n",
       "      <td>2008</td>\n",
       "      <td>1</td>\n",
       "      <td>4</td>\n",
       "      <td>29.04</td>\n",
       "      <td>NaN</td>\n",
       "      <td>NaN</td>\n",
       "    </tr>\n",
       "    <tr>\n",
       "      <th>4</th>\n",
       "      <td>2008</td>\n",
       "      <td>1</td>\n",
       "      <td>5</td>\n",
       "      <td>30.17</td>\n",
       "      <td>NaN</td>\n",
       "      <td>NaN</td>\n",
       "    </tr>\n",
       "  </tbody>\n",
       "</table>\n",
       "</div>"
      ],
      "text/plain": [
       "   Year  Month  Day     O3  PM2.5 Environmental_risk\n",
       "0  2008      1    1  29.63    NaN                NaN\n",
       "1  2008      1    2  21.46    NaN                NaN\n",
       "2  2008      1    3  24.25    NaN                NaN\n",
       "3  2008      1    4  29.04    NaN                NaN\n",
       "4  2008      1    5  30.17    NaN                NaN"
      ]
     },
     "metadata": {},
     "output_type": "display_data"
    },
    {
     "data": {
      "text/html": [
       "<div>\n",
       "<style scoped>\n",
       "    .dataframe tbody tr th:only-of-type {\n",
       "        vertical-align: middle;\n",
       "    }\n",
       "\n",
       "    .dataframe tbody tr th {\n",
       "        vertical-align: top;\n",
       "    }\n",
       "\n",
       "    .dataframe thead th {\n",
       "        text-align: right;\n",
       "    }\n",
       "</style>\n",
       "<table border=\"1\" class=\"dataframe\">\n",
       "  <thead>\n",
       "    <tr style=\"text-align: right;\">\n",
       "      <th></th>\n",
       "      <th>Year</th>\n",
       "      <th>Month</th>\n",
       "      <th>Day</th>\n",
       "      <th>O3</th>\n",
       "      <th>PM2.5</th>\n",
       "    </tr>\n",
       "  </thead>\n",
       "  <tbody>\n",
       "    <tr>\n",
       "      <th>count</th>\n",
       "      <td>2984.000000</td>\n",
       "      <td>2984.000000</td>\n",
       "      <td>2984.000000</td>\n",
       "      <td>2878.000000</td>\n",
       "      <td>2725.000000</td>\n",
       "    </tr>\n",
       "    <tr>\n",
       "      <th>mean</th>\n",
       "      <td>2011.592493</td>\n",
       "      <td>6.419236</td>\n",
       "      <td>15.715818</td>\n",
       "      <td>16.313767</td>\n",
       "      <td>28.814594</td>\n",
       "    </tr>\n",
       "    <tr>\n",
       "      <th>std</th>\n",
       "      <td>2.357040</td>\n",
       "      <td>3.487660</td>\n",
       "      <td>8.804066</td>\n",
       "      <td>7.995680</td>\n",
       "      <td>17.479388</td>\n",
       "    </tr>\n",
       "    <tr>\n",
       "      <th>min</th>\n",
       "      <td>2008.000000</td>\n",
       "      <td>1.000000</td>\n",
       "      <td>1.000000</td>\n",
       "      <td>1.000000</td>\n",
       "      <td>5.000000</td>\n",
       "    </tr>\n",
       "    <tr>\n",
       "      <th>25%</th>\n",
       "      <td>2010.000000</td>\n",
       "      <td>3.000000</td>\n",
       "      <td>8.000000</td>\n",
       "      <td>9.392500</td>\n",
       "      <td>16.170000</td>\n",
       "    </tr>\n",
       "    <tr>\n",
       "      <th>50%</th>\n",
       "      <td>2012.000000</td>\n",
       "      <td>6.000000</td>\n",
       "      <td>16.000000</td>\n",
       "      <td>16.960000</td>\n",
       "      <td>23.210000</td>\n",
       "    </tr>\n",
       "    <tr>\n",
       "      <th>75%</th>\n",
       "      <td>2014.000000</td>\n",
       "      <td>9.000000</td>\n",
       "      <td>23.000000</td>\n",
       "      <td>22.357500</td>\n",
       "      <td>37.210000</td>\n",
       "    </tr>\n",
       "    <tr>\n",
       "      <th>max</th>\n",
       "      <td>2016.000000</td>\n",
       "      <td>12.000000</td>\n",
       "      <td>31.000000</td>\n",
       "      <td>56.300000</td>\n",
       "      <td>126.200000</td>\n",
       "    </tr>\n",
       "  </tbody>\n",
       "</table>\n",
       "</div>"
      ],
      "text/plain": [
       "              Year        Month          Day           O3        PM2.5\n",
       "count  2984.000000  2984.000000  2984.000000  2878.000000  2725.000000\n",
       "mean   2011.592493     6.419236    15.715818    16.313767    28.814594\n",
       "std       2.357040     3.487660     8.804066     7.995680    17.479388\n",
       "min    2008.000000     1.000000     1.000000     1.000000     5.000000\n",
       "25%    2010.000000     3.000000     8.000000     9.392500    16.170000\n",
       "50%    2012.000000     6.000000    16.000000    16.960000    23.210000\n",
       "75%    2014.000000     9.000000    23.000000    22.357500    37.210000\n",
       "max    2016.000000    12.000000    31.000000    56.300000   126.200000"
      ]
     },
     "metadata": {},
     "output_type": "display_data"
    }
   ],
   "source": [
    "df = pd.read_csv(\"data.csv\")\n",
    "display(df.head())\n",
    "display(df.describe())"
   ]
  },
  {
   "cell_type": "markdown",
   "metadata": {},
   "source": [
    "## Misión 1"
   ]
  },
  {
   "cell_type": "markdown",
   "metadata": {},
   "source": [
    "### Valores extremos\n",
    "Visualizamos los datos para ``O3``:"
   ]
  },
  {
   "cell_type": "code",
   "execution_count": 3,
   "metadata": {},
   "outputs": [
    {
     "data": {
      "image/png": "[encoded data removed]",
      "text/plain": [
       "<Figure size 432x288 with 1 Axes>"
      ]
     },
     "metadata": {},
     "output_type": "display_data"
    },
    {
     "data": {
      "image/png": "[encoded data removed]",
      "text/plain": [
       "<Figure size 432x288 with 1 Axes>"
      ]
     },
     "metadata": {},
     "output_type": "display_data"
    }
   ],
   "source": [
    "df[\"O3\"].hist(bins=50)\n",
    "plt.show()\n",
    "df.boxplot(column = \"O3\")\n",
    "plt.show()"
   ]
  },
  {
   "cell_type": "markdown",
   "metadata": {},
   "source": [
    "Hay ciertos datos que se escapan bastante del máximo no atípico mostrado en el diagrama de caja, además de parecer que son pocos en cantidad. En efecto, los siguientes son los datos cuya medición de ``O3`` es mayor que 40:"
   ]
  },
  {
   "cell_type": "code",
   "execution_count": 4,
   "metadata": {},
   "outputs": [
    {
     "data": {
      "text/html": [
       "<div>\n",
       "<style scoped>\n",
       "    .dataframe tbody tr th:only-of-type {\n",
       "        vertical-align: middle;\n",
       "    }\n",
       "\n",
       "    .dataframe tbody tr th {\n",
       "        vertical-align: top;\n",
       "    }\n",
       "\n",
       "    .dataframe thead th {\n",
       "        text-align: right;\n",
       "    }\n",
       "</style>\n",
       "<table border=\"1\" class=\"dataframe\">\n",
       "  <thead>\n",
       "    <tr style=\"text-align: right;\">\n",
       "      <th></th>\n",
       "      <th>Year</th>\n",
       "      <th>Month</th>\n",
       "      <th>Day</th>\n",
       "      <th>O3</th>\n",
       "      <th>PM2.5</th>\n",
       "      <th>Environmental_risk</th>\n",
       "    </tr>\n",
       "  </thead>\n",
       "  <tbody>\n",
       "    <tr>\n",
       "      <th>1715</th>\n",
       "      <td>2012</td>\n",
       "      <td>9</td>\n",
       "      <td>11</td>\n",
       "      <td>48.57</td>\n",
       "      <td>26.23</td>\n",
       "      <td>medio</td>\n",
       "    </tr>\n",
       "    <tr>\n",
       "      <th>1716</th>\n",
       "      <td>2012</td>\n",
       "      <td>9</td>\n",
       "      <td>12</td>\n",
       "      <td>52.86</td>\n",
       "      <td>43.88</td>\n",
       "      <td>medio</td>\n",
       "    </tr>\n",
       "    <tr>\n",
       "      <th>1717</th>\n",
       "      <td>2012</td>\n",
       "      <td>9</td>\n",
       "      <td>13</td>\n",
       "      <td>55.18</td>\n",
       "      <td>31.46</td>\n",
       "      <td>medio</td>\n",
       "    </tr>\n",
       "    <tr>\n",
       "      <th>1718</th>\n",
       "      <td>2012</td>\n",
       "      <td>9</td>\n",
       "      <td>14</td>\n",
       "      <td>56.30</td>\n",
       "      <td>13.69</td>\n",
       "      <td>extremo</td>\n",
       "    </tr>\n",
       "    <tr>\n",
       "      <th>2195</th>\n",
       "      <td>2014</td>\n",
       "      <td>1</td>\n",
       "      <td>4</td>\n",
       "      <td>49.50</td>\n",
       "      <td>95.88</td>\n",
       "      <td>Alto</td>\n",
       "    </tr>\n",
       "  </tbody>\n",
       "</table>\n",
       "</div>"
      ],
      "text/plain": [
       "      Year  Month  Day     O3  PM2.5 Environmental_risk\n",
       "1715  2012      9   11  48.57  26.23              medio\n",
       "1716  2012      9   12  52.86  43.88              medio\n",
       "1717  2012      9   13  55.18  31.46              medio\n",
       "1718  2012      9   14  56.30  13.69            extremo\n",
       "2195  2014      1    4  49.50  95.88               Alto"
      ]
     },
     "metadata": {},
     "output_type": "display_data"
    }
   ],
   "source": [
    "display(df[df[\"O3\"] > 40])"
   ]
  },
  {
   "cell_type": "markdown",
   "metadata": {},
   "source": [
    "Como son solo 5 datos de un total de 2984, se decidirá eliminar estos valores extremos de la base de datos para este caso."
   ]
  },
  {
   "cell_type": "code",
   "execution_count": 5,
   "metadata": {},
   "outputs": [],
   "source": [
    "df.drop(df[df[\"O3\"] > 40].index, inplace=True)"
   ]
  },
  {
   "cell_type": "markdown",
   "metadata": {},
   "source": [
    "Volvemos a visualizar:"
   ]
  },
  {
   "cell_type": "code",
   "execution_count": 6,
   "metadata": {},
   "outputs": [
    {
     "data": {
      "image/png": "[encoded data removed]",
      "text/plain": [
       "<Figure size 432x288 with 1 Axes>"
      ]
     },
     "metadata": {},
     "output_type": "display_data"
    },
    {
     "data": {
      "image/png": "[encoded data removed]",
      "text/plain": [
       "<Figure size 432x288 with 1 Axes>"
      ]
     },
     "metadata": {},
     "output_type": "display_data"
    }
   ],
   "source": [
    "df[\"O3\"].hist(bins=50)\n",
    "plt.show()\n",
    "df.boxplot(column = \"O3\")\n",
    "plt.show()"
   ]
  },
  {
   "cell_type": "markdown",
   "metadata": {},
   "source": [
    "Visualizamos los datos para ``PM2.5``:"
   ]
  },
  {
   "cell_type": "code",
   "execution_count": 7,
   "metadata": {},
   "outputs": [
    {
     "data": {
      "image/png": "[encoded data removed]",
      "text/plain": [
       "<Figure size 432x288 with 1 Axes>"
      ]
     },
     "metadata": {},
     "output_type": "display_data"
    },
    {
     "data": {
      "image/png": "[encoded data removed]",
      "text/plain": [
       "<Figure size 432x288 with 1 Axes>"
      ]
     },
     "metadata": {},
     "output_type": "display_data"
    }
   ],
   "source": [
    "df[\"PM2.5\"].hist(bins=50)\n",
    "plt.show()\n",
    "df.boxplot(column = \"PM2.5\")\n",
    "plt.show()"
   ]
  },
  {
   "cell_type": "markdown",
   "metadata": {},
   "source": [
    "Para este caso, no es tan identificable un conjunto de datos que disten significativamente del máximo no atípico. Además, la distribución tiene un comportamiento similar a una Log-Normal, por lo que para este caso utilizaremos una transformación logarítmica para anular el efecto de los valores extremos:"
   ]
  },
  {
   "cell_type": "code",
   "execution_count": 8,
   "metadata": {},
   "outputs": [
    {
     "data": {
      "image/png": "[encoded data removed]",
      "text/plain": [
       "<Figure size 432x288 with 1 Axes>"
      ]
     },
     "metadata": {},
     "output_type": "display_data"
    }
   ],
   "source": [
    "df[\"PM2.5_log\"] = np.log(df[\"PM2.5\"])\n",
    "df[\"PM2.5_log\"].hist(bins=20)\n",
    "plt.show()"
   ]
  },
  {
   "cell_type": "markdown",
   "metadata": {},
   "source": [
    "Ahora la distribución se ve mucho más cerca de una normal y el efecto de los valores extremos ha disminuido significativamente."
   ]
  },
  {
   "cell_type": "markdown",
   "metadata": {},
   "source": [
    "### Datos faltantes\n",
    "Veamos cuántos datos faltantes hay en cada columna de interés:"
   ]
  },
  {
   "cell_type": "code",
   "execution_count": 9,
   "metadata": {},
   "outputs": [
    {
     "name": "stdout",
     "output_type": "stream",
     "text": [
      "N° de datos df: 2979\n"
     ]
    },
    {
     "data": {
      "text/plain": [
       "O3       106\n",
       "PM2.5    259\n",
       "dtype: int64"
      ]
     },
     "metadata": {},
     "output_type": "display_data"
    }
   ],
   "source": [
    "print(f\"N° de datos df: {len(df)}\")\n",
    "display(df[[\"O3\", \"PM2.5\"]].apply(lambda x: sum(x.isnull()), axis=0))"
   ]
  },
  {
   "cell_type": "markdown",
   "metadata": {},
   "source": [
    "Creamos un nuevos DataFrame ``df2`` en el que se completan los datos faltantes con la media:"
   ]
  },
  {
   "cell_type": "code",
   "execution_count": 10,
   "metadata": {},
   "outputs": [
    {
     "name": "stdout",
     "output_type": "stream",
     "text": [
      "N° de datos df2: 2979\n"
     ]
    },
    {
     "data": {
      "text/plain": [
       "O3           0\n",
       "PM2.5_log    0\n",
       "dtype: int64"
      ]
     },
     "metadata": {},
     "output_type": "display_data"
    }
   ],
   "source": [
    "df2 = df.copy()\n",
    "df2[\"O3\"].fillna(df2[\"O3\"].mean(), inplace=True)\n",
    "media_PM25 = df2[\"PM2.5\"].mean()\n",
    "df2[\"PM2.5\"].fillna(media_PM25, inplace=True)\n",
    "df2[\"PM2.5_log\"].fillna(np.log(media_PM25), inplace=True)\n",
    "print(f\"N° de datos df2: {len(df2)}\")\n",
    "display(df2[[\"O3\", \"PM2.5_log\"]].apply(lambda x: sum(x.isnull()), axis=0))"
   ]
  },
  {
   "cell_type": "markdown",
   "metadata": {},
   "source": [
    "Creamos un nuevos DataFrame ``df3`` en el que se eliminan los datos faltantes en vez de completar con la media:"
   ]
  },
  {
   "cell_type": "code",
   "execution_count": 11,
   "metadata": {},
   "outputs": [
    {
     "name": "stdout",
     "output_type": "stream",
     "text": [
      "N° de datos df3: 2651\n"
     ]
    },
    {
     "data": {
      "text/plain": [
       "O3           0\n",
       "PM2.5_log    0\n",
       "dtype: int64"
      ]
     },
     "metadata": {},
     "output_type": "display_data"
    }
   ],
   "source": [
    "df3 = df.copy()\n",
    "df3.dropna(subset=[\"O3\", \"PM2.5_log\"], inplace=True)\n",
    "print(f\"N° de datos df3: {len(df3)}\")\n",
    "display(df3[[\"O3\", \"PM2.5_log\"]].apply(lambda x: sum(x.isnull()), axis=0))"
   ]
  },
  {
   "cell_type": "markdown",
   "metadata": {},
   "source": [
    "## Misión 2"
   ]
  },
  {
   "cell_type": "markdown",
   "metadata": {},
   "source": [
    "Estadísticos pedidos para ``df2``:"
   ]
  },
  {
   "cell_type": "code",
   "execution_count": 12,
   "metadata": {},
   "outputs": [
    {
     "data": {
      "text/html": [
       "<div>\n",
       "<style scoped>\n",
       "    .dataframe tbody tr th:only-of-type {\n",
       "        vertical-align: middle;\n",
       "    }\n",
       "\n",
       "    .dataframe tbody tr th {\n",
       "        vertical-align: top;\n",
       "    }\n",
       "\n",
       "    .dataframe thead th {\n",
       "        text-align: right;\n",
       "    }\n",
       "</style>\n",
       "<table border=\"1\" class=\"dataframe\">\n",
       "  <thead>\n",
       "    <tr style=\"text-align: right;\">\n",
       "      <th></th>\n",
       "      <th>O3</th>\n",
       "      <th>PM2.5</th>\n",
       "    </tr>\n",
       "  </thead>\n",
       "  <tbody>\n",
       "    <tr>\n",
       "      <th>mean</th>\n",
       "      <td>16.250821</td>\n",
       "      <td>28.789938</td>\n",
       "    </tr>\n",
       "    <tr>\n",
       "      <th>std</th>\n",
       "      <td>7.716669</td>\n",
       "      <td>16.667372</td>\n",
       "    </tr>\n",
       "    <tr>\n",
       "      <th>min</th>\n",
       "      <td>1.000000</td>\n",
       "      <td>5.000000</td>\n",
       "    </tr>\n",
       "    <tr>\n",
       "      <th>max</th>\n",
       "      <td>39.650000</td>\n",
       "      <td>126.200000</td>\n",
       "    </tr>\n",
       "    <tr>\n",
       "      <th>kurtosis</th>\n",
       "      <td>-0.868417</td>\n",
       "      <td>2.485593</td>\n",
       "    </tr>\n",
       "    <tr>\n",
       "      <th>corr O3 - PM2.5</th>\n",
       "      <td>-0.475489</td>\n",
       "      <td>-0.475489</td>\n",
       "    </tr>\n",
       "  </tbody>\n",
       "</table>\n",
       "</div>"
      ],
      "text/plain": [
       "                        O3       PM2.5\n",
       "mean             16.250821   28.789938\n",
       "std               7.716669   16.667372\n",
       "min               1.000000    5.000000\n",
       "max              39.650000  126.200000\n",
       "kurtosis         -0.868417    2.485593\n",
       "corr O3 - PM2.5  -0.475489   -0.475489"
      ]
     },
     "metadata": {},
     "output_type": "display_data"
    }
   ],
   "source": [
    "stats_df2 = df2[[\"O3\", \"PM2.5\"]].describe().drop(labels=[\"count\",\"25%\",\"50%\",\"75%\"])\n",
    "stats_df2.loc[\"kurtosis\"] = df2[[\"O3\", \"PM2.5\"]].kurtosis()\n",
    "corr_03_PM25 = df2[\"O3\"].corr(df2[\"PM2.5\"])\n",
    "stats_df2.loc[\"corr O3 - PM2.5\"] = [corr_03_PM25, corr_03_PM25]\n",
    "display(stats_df2)"
   ]
  },
  {
   "cell_type": "markdown",
   "metadata": {},
   "source": [
    "Estadísticos pedidos para ``df3``:"
   ]
  },
  {
   "cell_type": "code",
   "execution_count": 13,
   "metadata": {},
   "outputs": [
    {
     "data": {
      "text/html": [
       "<div>\n",
       "<style scoped>\n",
       "    .dataframe tbody tr th:only-of-type {\n",
       "        vertical-align: middle;\n",
       "    }\n",
       "\n",
       "    .dataframe tbody tr th {\n",
       "        vertical-align: top;\n",
       "    }\n",
       "\n",
       "    .dataframe thead th {\n",
       "        text-align: right;\n",
       "    }\n",
       "</style>\n",
       "<table border=\"1\" class=\"dataframe\">\n",
       "  <thead>\n",
       "    <tr style=\"text-align: right;\">\n",
       "      <th></th>\n",
       "      <th>O3</th>\n",
       "      <th>PM2.5</th>\n",
       "    </tr>\n",
       "  </thead>\n",
       "  <tbody>\n",
       "    <tr>\n",
       "      <th>mean</th>\n",
       "      <td>15.892422</td>\n",
       "      <td>28.962003</td>\n",
       "    </tr>\n",
       "    <tr>\n",
       "      <th>std</th>\n",
       "      <td>7.890672</td>\n",
       "      <td>17.560376</td>\n",
       "    </tr>\n",
       "    <tr>\n",
       "      <th>min</th>\n",
       "      <td>1.000000</td>\n",
       "      <td>5.000000</td>\n",
       "    </tr>\n",
       "    <tr>\n",
       "      <th>max</th>\n",
       "      <td>39.650000</td>\n",
       "      <td>126.200000</td>\n",
       "    </tr>\n",
       "    <tr>\n",
       "      <th>kurtosis</th>\n",
       "      <td>-0.944448</td>\n",
       "      <td>1.937068</td>\n",
       "    </tr>\n",
       "    <tr>\n",
       "      <th>corr O3 - PM2.5</th>\n",
       "      <td>-0.495540</td>\n",
       "      <td>-0.495540</td>\n",
       "    </tr>\n",
       "  </tbody>\n",
       "</table>\n",
       "</div>"
      ],
      "text/plain": [
       "                        O3       PM2.5\n",
       "mean             15.892422   28.962003\n",
       "std               7.890672   17.560376\n",
       "min               1.000000    5.000000\n",
       "max              39.650000  126.200000\n",
       "kurtosis         -0.944448    1.937068\n",
       "corr O3 - PM2.5  -0.495540   -0.495540"
      ]
     },
     "metadata": {},
     "output_type": "display_data"
    }
   ],
   "source": [
    "stats_df3 = df3[[\"O3\", \"PM2.5\"]].describe().drop(labels=[\"count\",\"25%\",\"50%\",\"75%\"])\n",
    "stats_df3.loc[\"kurtosis\"] = df3[[\"O3\", \"PM2.5\"]].kurtosis()\n",
    "corr_03_PM25 = df3[\"O3\"].corr(df3[\"PM2.5\"])\n",
    "stats_df3.loc[\"corr O3 - PM2.5\"] = [corr_03_PM25, corr_03_PM25]\n",
    "display(stats_df3)"
   ]
  },
  {
   "cell_type": "markdown",
   "metadata": {},
   "source": [
    "## Misión 3\n",
    "### Histograma de PM2.5\n",
    "Para ``df2``:"
   ]
  },
  {
   "cell_type": "code",
   "execution_count": 14,
   "metadata": {},
   "outputs": [
    {
     "data": {
      "image/png": "[encoded data removed]",
      "text/plain": [
       "<Figure size 432x288 with 1 Axes>"
      ]
     },
     "metadata": {},
     "output_type": "display_data"
    }
   ],
   "source": [
    "df2[\"PM2.5\"].hist(bins=50) \n",
    "plt.show()"
   ]
  },
  {
   "cell_type": "markdown",
   "metadata": {},
   "source": [
    "Para ``df3``:"
   ]
  },
  {
   "cell_type": "code",
   "execution_count": 15,
   "metadata": {},
   "outputs": [
    {
     "data": {
      "image/png": "[encoded data removed]",
      "text/plain": [
       "<Figure size 432x288 with 1 Axes>"
      ]
     },
     "metadata": {},
     "output_type": "display_data"
    }
   ],
   "source": [
    "df3[\"PM2.5\"].hist(bins=50) \n",
    "plt.show()"
   ]
  },
  {
   "cell_type": "markdown",
   "metadata": {},
   "source": [
    "### Boxplot de O3 por mes\n",
    "Para ``df2``:"
   ]
  },
  {
   "cell_type": "code",
   "execution_count": 16,
   "metadata": {},
   "outputs": [
    {
     "data": {
      "image/png": "[encoded data removed]",
      "text/plain": [
       "<Figure size 432x288 with 1 Axes>"
      ]
     },
     "metadata": {},
     "output_type": "display_data"
    }
   ],
   "source": [
    "df2.boxplot(column=\"O3\", by = \"Month\")\n",
    "plt.show()"
   ]
  },
  {
   "cell_type": "markdown",
   "metadata": {},
   "source": [
    "Para ``df3``:"
   ]
  },
  {
   "cell_type": "code",
   "execution_count": 17,
   "metadata": {},
   "outputs": [
    {
     "data": {
      "image/png": "[encoded data removed]",
      "text/plain": [
       "<Figure size 432x288 with 1 Axes>"
      ]
     },
     "metadata": {},
     "output_type": "display_data"
    }
   ],
   "source": [
    "df3.boxplot(column=\"O3\", by = \"Month\")\n",
    "plt.show()"
   ]
  },
  {
   "cell_type": "markdown",
   "metadata": {},
   "source": [
    "### Evolución promedio de O3 y PM2.5 por año"
   ]
  },
  {
   "cell_type": "markdown",
   "metadata": {},
   "source": [
    "Para ``df2``:"
   ]
  },
  {
   "cell_type": "code",
   "execution_count": 18,
   "metadata": {},
   "outputs": [
    {
     "data": {
      "image/png": "[encoded data removed]",
      "text/plain": [
       "<Figure size 432x288 with 1 Axes>"
      ]
     },
     "metadata": {},
     "output_type": "display_data"
    }
   ],
   "source": [
    "df2[[\"Year\", \"O3\", \"PM2.5\"]].groupby(\"Year\").mean().plot()\n",
    "plt.show()"
   ]
  },
  {
   "cell_type": "markdown",
   "metadata": {},
   "source": [
    "Para ``df3``:"
   ]
  },
  {
   "cell_type": "code",
   "execution_count": 19,
   "metadata": {},
   "outputs": [
    {
     "data": {
      "image/png": "[encoded data removed]",
      "text/plain": [
       "<Figure size 432x288 with 1 Axes>"
      ]
     },
     "metadata": {},
     "output_type": "display_data"
    }
   ],
   "source": [
    "df3[[\"Year\", \"O3\", \"PM2.5\"]].groupby(\"Year\").mean().plot()\n",
    "plt.show()"
   ]
  },
  {
   "cell_type": "markdown",
   "metadata": {},
   "source": [
    "## Misión 4"
   ]
  },
  {
   "cell_type": "markdown",
   "metadata": {},
   "source": [
    "Identifiquemos la cantidad de datos nulos y los niveles de riesgos ambientales presentes con su frecuencia:"
   ]
  },
  {
   "cell_type": "code",
   "execution_count": 20,
   "metadata": {},
   "outputs": [
    {
     "name": "stdout",
     "output_type": "stream",
     "text": [
      "Valores NaN df2: 328\n"
     ]
    },
    {
     "data": {
      "text/plain": [
       "medio      1602\n",
       "Bajo        750\n",
       "nulo        134\n",
       "Alto        105\n",
       "extremo      60\n",
       "Name: Environmental_risk, dtype: int64"
      ]
     },
     "metadata": {},
     "output_type": "display_data"
    }
   ],
   "source": [
    "print(f\"Valores NaN df2: {df2['Environmental_risk'].isna().sum()}\")\n",
    "display(df2[\"Environmental_risk\"].value_counts())"
   ]
  },
  {
   "cell_type": "code",
   "execution_count": 21,
   "metadata": {},
   "outputs": [
    {
     "name": "stdout",
     "output_type": "stream",
     "text": [
      "Valores NaN df3: 0\n"
     ]
    },
    {
     "data": {
      "text/plain": [
       "medio      1602\n",
       "Bajo        750\n",
       "nulo        134\n",
       "Alto        105\n",
       "extremo      60\n",
       "Name: Environmental_risk, dtype: int64"
      ]
     },
     "metadata": {},
     "output_type": "display_data"
    }
   ],
   "source": [
    "print(f\"Valores NaN df3: {df3['Environmental_risk'].isna().sum()}\")\n",
    "display(df3[\"Environmental_risk\"].value_counts())"
   ]
  },
  {
   "cell_type": "markdown",
   "metadata": {},
   "source": [
    "Para ``df3``, al eliminar los datos faltantes de ``O3`` y ``PM2.5`` coincidentemente no quedaron valores NaN en ``Environmental_risk``, mientras que en ``df2`` sí quedaron. En cualquier caso, lo relevante a notar es que existe una categoría ``nulo`` en ``Environmental_risk``, la cual podría hacer referencia a que es un dato faltante o desconocido, por lo que lo transformaremos a valor NaN para que sea más sencillo trabajar con ellos."
   ]
  },
  {
   "cell_type": "code",
   "execution_count": 22,
   "metadata": {},
   "outputs": [],
   "source": [
    "df2[\"Environmental_risk\"].replace(\"nulo\", np.nan, inplace=True)\n",
    "df3[\"Environmental_risk\"].replace(\"nulo\", np.nan, inplace=True)"
   ]
  },
  {
   "cell_type": "code",
   "execution_count": 23,
   "metadata": {},
   "outputs": [
    {
     "name": "stdout",
     "output_type": "stream",
     "text": [
      "Valores NaN df2: 462\n"
     ]
    },
    {
     "data": {
      "text/plain": [
       "medio      1602\n",
       "Bajo        750\n",
       "Alto        105\n",
       "extremo      60\n",
       "Name: Environmental_risk, dtype: int64"
      ]
     },
     "metadata": {},
     "output_type": "display_data"
    }
   ],
   "source": [
    "print(f\"Valores NaN df2: {df2['Environmental_risk'].isna().sum()}\")\n",
    "display(df2[\"Environmental_risk\"].value_counts())"
   ]
  },
  {
   "cell_type": "code",
   "execution_count": 24,
   "metadata": {},
   "outputs": [
    {
     "name": "stdout",
     "output_type": "stream",
     "text": [
      "Valores NaN df3: 134\n"
     ]
    },
    {
     "data": {
      "text/plain": [
       "medio      1602\n",
       "Bajo        750\n",
       "Alto        105\n",
       "extremo      60\n",
       "Name: Environmental_risk, dtype: int64"
      ]
     },
     "metadata": {},
     "output_type": "display_data"
    }
   ],
   "source": [
    "print(f\"Valores NaN df3: {df3['Environmental_risk'].isna().sum()}\")\n",
    "display(df3[\"Environmental_risk\"].value_counts())"
   ]
  },
  {
   "cell_type": "markdown",
   "metadata": {},
   "source": [
    "Visualicemos el comportamiento de los niveles de riesgo ambiental respecto a las variables ``O3`` y ``PM2.5`` (se hará todo usando ``df3``, con ``df2`` se obtienen los mismos comportamientos):"
   ]
  },
  {
   "cell_type": "code",
   "execution_count": 25,
   "metadata": {},
   "outputs": [
    {
     "data": {
      "image/png": "[encoded data removed]",
      "text/plain": [
       "<Figure size 432x288 with 1 Axes>"
      ]
     },
     "metadata": {},
     "output_type": "display_data"
    }
   ],
   "source": [
    "df3.boxplot(column=\"O3\", by = \"Environmental_risk\")\n",
    "plt.show()"
   ]
  },
  {
   "cell_type": "code",
   "execution_count": 26,
   "metadata": {},
   "outputs": [
    {
     "data": {
      "image/png": "[encoded data removed]",
      "text/plain": [
       "<Figure size 432x288 with 1 Axes>"
      ]
     },
     "metadata": {},
     "output_type": "display_data"
    }
   ],
   "source": [
    "df3.boxplot(column=\"PM2.5\", by = \"Environmental_risk\")\n",
    "plt.show()"
   ]
  },
  {
   "cell_type": "markdown",
   "metadata": {},
   "source": [
    "La última figura no logra mostrar un comportamiento claro del nivel de riesgo respecto a la cantidad de ``PM2.5``, debido a los valores extremos presentes. Sin embargo, la transformación logarítmica implementada en la Misión 1 nos podría ayudar en este caso:"
   ]
  },
  {
   "cell_type": "code",
   "execution_count": 27,
   "metadata": {},
   "outputs": [
    {
     "data": {
      "image/png": "[encoded data removed]",
      "text/plain": [
       "<Figure size 432x288 with 1 Axes>"
      ]
     },
     "metadata": {},
     "output_type": "display_data"
    }
   ],
   "source": [
    "df3.boxplot(column=\"PM2.5_log\", by = \"Environmental_risk\")\n",
    "plt.show()"
   ]
  },
  {
   "cell_type": "markdown",
   "metadata": {},
   "source": [
    "Mucho mejor :)\n",
    "\n",
    "Hay dos categorías que quizás son más fácil de identificar respecto a las otras usando las variables ``O3`` y ``PM2.5_log``: ``Bajo`` y ``extremo``. Ambas poseen datos con un valor bajo los 2.9 aprox de ``PM2.5_log``, pero la primera tiene datos con un valor bajo los 27 aprox de ``O3``, mientras que la segunda sobre este valor. Por otro lado, pareciera no haber tantos datos de las categorías ``Alto`` y ``medio`` en esos rangos. En efecto, si determinamos las frecuencias de los niveles de riesgo para estos rangos se obtiene lo siguiente:"
   ]
  },
  {
   "cell_type": "code",
   "execution_count": 28,
   "metadata": {},
   "outputs": [
    {
     "data": {
      "text/plain": [
       "Bajo    690\n",
       "Alto     22\n",
       "Name: Environmental_risk, dtype: int64"
      ]
     },
     "execution_count": 28,
     "metadata": {},
     "output_type": "execute_result"
    }
   ],
   "source": [
    "cond1 = (df3[\"O3\"] < 27) & (df3[\"PM2.5_log\"] < 2.9)\n",
    "df3[cond1][\"Environmental_risk\"].value_counts()"
   ]
  },
  {
   "cell_type": "code",
   "execution_count": 29,
   "metadata": {},
   "outputs": [
    {
     "data": {
      "text/plain": [
       "extremo    51\n",
       "Alto       14\n",
       "Name: Environmental_risk, dtype: int64"
      ]
     },
     "execution_count": 29,
     "metadata": {},
     "output_type": "execute_result"
    }
   ],
   "source": [
    "cond2 = (df3[\"O3\"] > 27) & (df3[\"PM2.5_log\"] < 2.9)\n",
    "df3[cond2][\"Environmental_risk\"].value_counts()"
   ]
  },
  {
   "cell_type": "markdown",
   "metadata": {},
   "source": [
    "Para el primer rango, se tiene una probabilidad de 96.91% que la observación tenga un nivel de riesgo ``Bajo``, mientras que para el segundo rango, se tiene una probabilidad de 78.46% que la observación tenga un nivel de riesgo ``extremo``."
   ]
  },
  {
   "cell_type": "markdown",
   "metadata": {},
   "source": [
    "La categoría más compleja de desagregar pareciera ser el nivel de riesgo ``Alto``. Su rango más favorable pareciera ser para valores sobre los 2.5 y bajo los 3.7 de ``PM2.5_log`` y sobre los 25 de ``O3``. Sin embargo, determinando las frecuencias de los niveles de riesgo para este rango se obtiene lo siguiente:"
   ]
  },
  {
   "cell_type": "code",
   "execution_count": 30,
   "metadata": {},
   "outputs": [
    {
     "data": {
      "text/plain": [
       "medio      150\n",
       "Alto        85\n",
       "extremo     56\n",
       "Bajo        40\n",
       "Name: Environmental_risk, dtype: int64"
      ]
     },
     "execution_count": 30,
     "metadata": {},
     "output_type": "execute_result"
    }
   ],
   "source": [
    "df3[(df3[\"O3\"] > 25) & (df3[\"PM2.5_log\"] > 2.5) & ((df3[\"PM2.5_log\"] < 3.7))][\"Environmental_risk\"].value_counts()"
   ]
  },
  {
   "cell_type": "markdown",
   "metadata": {},
   "source": [
    "La categoría ``medio`` es preponderante en ese rango y lo es también en la base de datos en general, de acuerdo con las frecuencias totales obtenidas al comienzo de la misión. De hecho, para los datos que no se encuentran en los rangos definidos para los niveles ``Bajo`` y ``extremo`` se tiene que hay un 92.07% de observaciones con nivel de riesgo ``medio`` como se observa a continuación:"
   ]
  },
  {
   "cell_type": "code",
   "execution_count": 31,
   "metadata": {},
   "outputs": [
    {
     "data": {
      "text/plain": [
       "medio      1602\n",
       "Alto         69\n",
       "Bajo         60\n",
       "extremo       9\n",
       "Name: Environmental_risk, dtype: int64"
      ]
     },
     "execution_count": 31,
     "metadata": {},
     "output_type": "execute_result"
    }
   ],
   "source": [
    "cond3 = ~(cond1 | cond2)\n",
    "df3[cond3][\"Environmental_risk\"].value_counts()"
   ]
  },
  {
   "cell_type": "markdown",
   "metadata": {},
   "source": [
    "De esta manera, el esquema de asignación plnateado es el siguiente:\n",
    "\n",
    "- Si la cantidad de ``O3`` es mayor que 27 y la cantidad de ``PM2.5`` es menor que 2.9, asignar nivel ``extremo``.\n",
    "- Si la cantidad de ``O3`` es menor que 27 y la cantidad de ``PM2.5`` es menor que 2.9, asignar nivel ``Bajo``.\n",
    "- Asignar nivel ``medio`` en otro caso.\n",
    "\n",
    "Aplicamos el esquema definido para rellenar los datos faltantes:"
   ]
  },
  {
   "cell_type": "code",
   "execution_count": 32,
   "metadata": {},
   "outputs": [],
   "source": [
    "df3.loc[cond1, \"Environmental_risk\"] = df3.loc[cond1, \"Environmental_risk\"].fillna(\"Bajo\")\n",
    "df3.loc[cond2, \"Environmental_risk\"] = df3.loc[cond2, \"Environmental_risk\"].fillna(\"extremo\")\n",
    "df3.loc[cond3, \"Environmental_risk\"] = df3.loc[cond3, \"Environmental_risk\"].fillna(\"medio\")"
   ]
  },
  {
   "cell_type": "markdown",
   "metadata": {},
   "source": [
    "Tras completar los datos se tienen las siguientes frecuencias de los niveles de riesgo:"
   ]
  },
  {
   "cell_type": "code",
   "execution_count": 33,
   "metadata": {},
   "outputs": [
    {
     "name": "stdout",
     "output_type": "stream",
     "text": [
      "Valores NaN df3: 0\n"
     ]
    },
    {
     "data": {
      "text/plain": [
       "medio      1633\n",
       "Bajo        853\n",
       "Alto        105\n",
       "extremo      60\n",
       "Name: Environmental_risk, dtype: int64"
      ]
     },
     "metadata": {},
     "output_type": "display_data"
    }
   ],
   "source": [
    "print(f\"Valores NaN df3: {df3['Environmental_risk'].isna().sum()}\")\n",
    "display(df3[\"Environmental_risk\"].value_counts())"
   ]
  },
  {
   "cell_type": "markdown",
   "metadata": {},
   "source": [
    "Rellenamos para ``df2``:"
   ]
  },
  {
   "cell_type": "code",
   "execution_count": 34,
   "metadata": {},
   "outputs": [
    {
     "name": "stdout",
     "output_type": "stream",
     "text": [
      "Valores NaN df2: 0\n"
     ]
    },
    {
     "data": {
      "text/plain": [
       "medio      1937\n",
       "Bajo        877\n",
       "Alto        105\n",
       "extremo      60\n",
       "Name: Environmental_risk, dtype: int64"
      ]
     },
     "metadata": {},
     "output_type": "display_data"
    }
   ],
   "source": [
    "cond1 = (df2[\"O3\"] < 27) & (df2[\"PM2.5_log\"] < 2.9)\n",
    "cond2 = (df2[\"O3\"] > 27) & (df2[\"PM2.5_log\"] < 2.9)\n",
    "cond3 = ~(cond1 | cond2)\n",
    "df2.loc[cond1, \"Environmental_risk\"] = df2.loc[cond1, \"Environmental_risk\"].fillna(\"Bajo\")\n",
    "df2.loc[cond2, \"Environmental_risk\"] = df2.loc[cond2, \"Environmental_risk\"].fillna(\"extremo\")\n",
    "df2.loc[cond3, \"Environmental_risk\"] = df2.loc[cond3, \"Environmental_risk\"].fillna(\"medio\")\n",
    "print(f\"Valores NaN df2: {df2['Environmental_risk'].isna().sum()}\")\n",
    "display(df2[\"Environmental_risk\"].value_counts())"
   ]
  },
  {
   "cell_type": "code",
   "execution_count": null,
   "metadata": {},
   "outputs": [],
   "source": []
  }
 ],
 "metadata": {
  "kernelspec": {
   "display_name": "Python 3",
   "language": "python",
   "name": "python3"
  },
  "language_info": {
   "codemirror_mode": {
    "name": "ipython",
    "version": 3
   },
   "file_extension": ".py",
   "mimetype": "text/x-python",
   "name": "python",
   "nbconvert_exporter": "python",
   "pygments_lexer": "ipython3",
   "version": "3.6.8"
  }
 },
 "nbformat": 4,
 "nbformat_minor": 2
}
