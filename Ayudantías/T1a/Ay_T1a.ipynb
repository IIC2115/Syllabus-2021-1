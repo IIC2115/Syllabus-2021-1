{
 "cells": [
  {
   "cell_type": "markdown",
   "metadata": {},
   "source": [
    "# IIC2115 - Programación Como Herramienta para la Ingeniería\n",
    "## Taller 1a\n",
    "### Ayudante: Matías Gaete Silva - mzgaete@uc.cl\n",
    "Definimos la clase ``Ciudad``. Sus atributos son:\n",
    "* ``nombre``: nombre de la ciudad.\n",
    "* ``color``: color de la ciudad.\n",
    "* ``pintados``: cantidad de vehículos pintados. Se supone que comienza en $0$.\n",
    "\n",
    "Sus métodos son:\n",
    "\n",
    "* ``pintar``: recibe un objeto de la clase ``Vehiculo``. Modifica su color al de la ciudad y aumenta el contador de vehículos pintados por la ciudad y de ciudades visitadas por el vehículo."
   ]
  },
  {
   "cell_type": "code",
   "execution_count": 1,
   "metadata": {},
   "outputs": [],
   "source": [
    "class Ciudad:\n",
    "    \n",
    "    def __init__(self, nombre, color):\n",
    "        self.nombre = nombre\n",
    "        self.color = color\n",
    "        self.pintados = 0\n",
    "        \n",
    "    def pintar(self, vehiculo):\n",
    "        vehiculo.color = self.color\n",
    "        self.pintados += 1\n",
    "        vehiculo.visitadas += 1\n",
    "        \n",
    "    def __str__(self):\n",
    "        return f\"{self.nombre}: color {self.color}, {self.pintados} vehículos pintados.\""
   ]
  },
  {
   "cell_type": "markdown",
   "metadata": {},
   "source": [
    "Definimos la clase ``Persona``. Sus atributos son:\n",
    "* ``nombre``: nombre de la persona.\n",
    "* ``edad``: edad de la persona.\n",
    "* ``vehiculo``: vehículo de la persona (objeto de la clase ``Vehiculo``).\n",
    "* ``horas_conducidas``: contador de horas conducidas de la persona. Se supone que comienza en $0$.\n",
    "* ``ciudades``: lista con el nombre de las ciudades visitadas. Se supone que comienza vacía.\n",
    "\n",
    "Sus métodos son:\n",
    "\n",
    "* ``viajar``: recibe una ciudad (objeto de ``Ciudad``) y una distancia. Aumenta el contador de horas conducidas de la persona correspondiente a la distancia e imprime el mensaje pedido para los casos en que llegó o no a la ciudad. Se supone que *tiempo_demorado* hace referencia al total de horas conducidas por la persona (si solo se refiere al tiempo del viaje en cuestión, entonces correspondería al return de ``recorrer``)."
   ]
  },
  {
   "cell_type": "code",
   "execution_count": 2,
   "metadata": {},
   "outputs": [],
   "source": [
    "class Persona:\n",
    "    \n",
    "    def __init__(self, nombre, edad, vehiculo):\n",
    "        self.nombre = nombre\n",
    "        self.edad = edad\n",
    "        self.vehiculo = vehiculo\n",
    "        self.horas_conducidas = 0\n",
    "        self.ciudades = []\n",
    "    \n",
    "    def viajar(self, ciudad, distancia):\n",
    "        self.horas_conducidas += self.vehiculo.recorrer(distancia)\n",
    "        if self.vehiculo.estado == \"Funcionando\":\n",
    "            ciudad.pintar(self.vehiculo)\n",
    "            self.ciudades.append(ciudad.nombre)\n",
    "            print(f\"La persona {self.nombre} llegó a {ciudad.nombre} en {self.horas_conducidas} horas y ahora su vehículo es de color {self.vehiculo.color}.\")\n",
    "        else:\n",
    "            print(f\"La persona {self.nombre} no logró llegar a {ciudad.nombre}, se quedó en panne a las {self.horas_conducidas} horas de viajes.\")\n",
    "    \n",
    "    def __str__(self):\n",
    "        return f\"{self.nombre}: edad {self.edad} años, su vehículo es {self.vehiculo.__class__.__name__} de color {self.vehiculo.color}, ha conducido {self.horas_conducidas} horas.\"\\\n",
    "    f\"\\nCiudades Visitadas: {', '.join(self.ciudades)}\""
   ]
  },
  {
   "cell_type": "markdown",
   "metadata": {},
   "source": [
    "Definimos la clase ``Vehiculo``. Sus atributos son:\n",
    "* ``color``: color del vehículo. Comienza con color Blanco.\n",
    "* ``velocidad_promedio``: velocidad promedio del vehículo en $km/h$.\n",
    "* ``km_recorridos``: kilómetros recorridos por el vehículo. Se supone que comienza en $0$.\n",
    "* ``km_maximos``: cantidad máxima de kilómetros que puede recorrer el vehículo.\n",
    "* ``visitadas``: cantidad de ciudades visitadas por el vehículo. Se supone que comienza en 0.\n",
    "* ``estado``: estado del vehículo, puede ser Funcionando o En Panne. Se supone que todos comienzan Funcionando.\n",
    "\n",
    "Sus métodos son:\n",
    "\n",
    "* ``eficiencia``: imprime la eficiencia del vehículo, la que se calcula como $\\frac{\\#\\,ciudades\\_visitadas}{km\\_recorridos}$.\n",
    "* ``recorrer``: recibe una distancia que el vehículo recorre considerando los kilómetros recorridos y máximos de este. Retorna el tiempo que le tomó recorrer la distancia dada."
   ]
  },
  {
   "cell_type": "code",
   "execution_count": 3,
   "metadata": {},
   "outputs": [],
   "source": [
    "class Vehiculo:\n",
    "    \n",
    "    def __init__(self):\n",
    "        self.color = \"Blanco\"\n",
    "        self.velocidad_promedio = None\n",
    "        self.km_recorridos = 0\n",
    "        self.km_maximos = None\n",
    "        self.visitadas = 0\n",
    "        self.estado = \"Funcionando\"\n",
    "        \n",
    "    def mostrar_eficiencia(self):\n",
    "        if self.km_recorridos != 0:\n",
    "            print(f\"Eficiencia: {self.visitadas/self.km_recorridos} [ciudades/km]\")\n",
    "        else:\n",
    "            print(\"El vehículo no ha recorrido kilómetros.\")\n",
    "    \n",
    "    def recorrer(self, distancia):\n",
    "        if self.km_recorridos + distancia > self.km_maximos:\n",
    "            self.estado = \"En Panne\"\n",
    "            distancia_recorrida = self.km_maximos - self.km_recorridos\n",
    "            self.km_recorridos = self.km_maximos\n",
    "            return (distancia_recorrida)/self.velocidad_promedio\n",
    "        else:\n",
    "            self.km_recorridos += distancia\n",
    "            return distancia / self.velocidad_promedio"
   ]
  },
  {
   "cell_type": "markdown",
   "metadata": {},
   "source": [
    "Definimos la subclase ``Auto`` que hereda de ``Vehiculo``. Su velocidad promedio es de $80 [km/h]$ y la cantidad máxima de kilómetros que puede recorrer es $1500 [km]$."
   ]
  },
  {
   "cell_type": "code",
   "execution_count": 4,
   "metadata": {},
   "outputs": [],
   "source": [
    "class Auto(Vehiculo):\n",
    "    \n",
    "    def __init__(self):\n",
    "        super().__init__()\n",
    "        self.velocidad_promedio = 80\n",
    "        self.km_maximos = 1500\n",
    "    \n",
    "    def __str__(self):\n",
    "        return f\"Auto: color actual {self.color}, ha recorrido {self.km_recorridos} kilómetros, estado es {self.estado}.\""
   ]
  },
  {
   "cell_type": "markdown",
   "metadata": {},
   "source": [
    "Definimos la subclase ``Bicicleta`` que hereda de ``Vehiculo``. Su velocidad promedio es de $30 [km/h]$ y la cantidad máxima de kilómetros que puede recorrer es $1000 [km]$."
   ]
  },
  {
   "cell_type": "code",
   "execution_count": 5,
   "metadata": {},
   "outputs": [],
   "source": [
    "class Bicicleta(Vehiculo):\n",
    "    \n",
    "    def __init__(self):\n",
    "        super().__init__()\n",
    "        self.velocidad_promedio = 30\n",
    "        self.km_maximos = 1000\n",
    "        \n",
    "    def __str__(self):\n",
    "        return f\"Bicicleta: color actual {self.color}, ha recorrido {self.km_recorridos} kilómetros, estado es {self.estado}.\""
   ]
  },
  {
   "cell_type": "markdown",
   "metadata": {},
   "source": [
    "Ejecutamos el Test del modelo:"
   ]
  },
  {
   "cell_type": "code",
   "execution_count": 6,
   "metadata": {},
   "outputs": [],
   "source": [
    "roma = Ciudad(\"Roma\", \"Verde\")\n",
    "santiago = Ciudad(\"Santiago\", \"Rojo\")\n",
    "lima = Ciudad(\"Lima\", \"Azul\")\n",
    "valparaiso = Ciudad(\"Valparaíso\", \"Celeste\")"
   ]
  },
  {
   "cell_type": "code",
   "execution_count": 7,
   "metadata": {},
   "outputs": [],
   "source": [
    "vehiculo = Auto()\n",
    "tiempo_de_viaje = vehiculo.recorrer(900)\n",
    "roma.pintar(vehiculo)"
   ]
  },
  {
   "cell_type": "code",
   "execution_count": 8,
   "metadata": {},
   "outputs": [],
   "source": [
    "persona_1 = Persona(\"Raúl\", 45, vehiculo)\n",
    "persona_2 = Persona(\"Laura\", 45, Auto())\n",
    "persona_3 = Persona(\"Juan\", 17, Auto())"
   ]
  },
  {
   "cell_type": "code",
   "execution_count": 9,
   "metadata": {},
   "outputs": [
    {
     "name": "stdout",
     "output_type": "stream",
     "text": [
      "La persona Raúl llegó a Roma en 1.2375 horas y ahora su vehículo es de color Verde.\n",
      "La persona Laura llegó a Santiago en 0.025 horas y ahora su vehículo es de color Rojo.\n",
      "La persona Laura llegó a Valparaíso en 6.275 horas y ahora su vehículo es de color Celeste.\n",
      "La persona Laura no logró llegar a Santiago, se quedó en panne a las 18.75 horas de viajes.\n",
      "La persona Juan no logró llegar a Lima, se quedó en panne a las 18.75 horas de viajes.\n",
      "La persona Raúl no logró llegar a Santiago, se quedó en panne a las 7.5 horas de viajes.\n",
      "La persona Laura no logró llegar a Roma, se quedó en panne a las 18.75 horas de viajes.\n"
     ]
    }
   ],
   "source": [
    "persona_1.viajar(roma, 99)\n",
    "persona_2.viajar(santiago, 2)\n",
    "persona_2.viajar(valparaiso, 500)\n",
    "persona_2.viajar(santiago, 1000)\n",
    "persona_3.viajar(lima, 6000)\n",
    "persona_1.viajar(santiago, 1278)\n",
    "persona_2.viajar(roma, 200)"
   ]
  },
  {
   "cell_type": "code",
   "execution_count": 10,
   "metadata": {},
   "outputs": [
    {
     "name": "stdout",
     "output_type": "stream",
     "text": [
      "Laura: edad 45 años, su vehículo es Auto de color Celeste, ha conducido 18.75 horas.\n",
      "Ciudades Visitadas: Santiago, Valparaíso\n",
      "Auto: color actual Verde, ha recorrido 1500 kilómetros, estado es En Panne.\n",
      "Auto: color actual Blanco, ha recorrido 1500 kilómetros, estado es En Panne.\n",
      "Roma: color Verde, 2 vehículos pintados.\n"
     ]
    }
   ],
   "source": [
    "print(persona_2)\n",
    "print(vehiculo)\n",
    "print(persona_3.vehiculo)\n",
    "print(roma)"
   ]
  },
  {
   "cell_type": "code",
   "execution_count": null,
   "metadata": {},
   "outputs": [],
   "source": []
  }
 ],
 "metadata": {
  "kernelspec": {
   "display_name": "Python 3",
   "language": "python",
   "name": "python3"
  },
  "language_info": {
   "codemirror_mode": {
    "name": "ipython",
    "version": 3
   },
   "file_extension": ".py",
   "mimetype": "text/x-python",
   "name": "python",
   "nbconvert_exporter": "python",
   "pygments_lexer": "ipython3",
   "version": "3.6.8"
  }
 },
 "nbformat": 4,
 "nbformat_minor": 2
}
